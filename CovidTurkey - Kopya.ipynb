{
 "cells": [
  {
   "cell_type": "markdown",
   "metadata": {},
   "source": [
    "### Kodu çıktıları ile incelemek için tıklayın :\n",
    "https://nbviewer.jupyter.org/github/hediyeorhan/DataPreprocessingAnalysisVisualization/blob/main/CovidTurkey.ipynb\n"
   ]
  },
  {
   "cell_type": "markdown",
   "metadata": {},
   "source": [
    "###### Kullandığım veri seti linki : https://www.kaggle.com/sefatosun/covid19turkey"
   ]
  },
  {
   "cell_type": "code",
   "execution_count": 1,
   "metadata": {},
   "outputs": [],
   "source": [
    "import pandas as pd\n",
    "import numpy as np\n",
    "import math\n",
    "import matplotlib.pyplot as plt\n",
    "import plotly.graph_objects as go\n",
    "import seaborn as sns\n",
    "import plotly.express as px\n",
    "from plotly.offline import init_notebook_mode ,iplot"
   ]
  },
  {
   "cell_type": "code",
   "execution_count": 2,
   "metadata": {},
   "outputs": [],
   "source": [
    "data = pd.read_csv(\"covidTurkey.csv\")"
   ]
  },
  {
   "cell_type": "code",
   "execution_count": 3,
   "metadata": {},
   "outputs": [
    {
     "data": {
      "text/html": [
       "<div>\n",
       "<style scoped>\n",
       "    .dataframe tbody tr th:only-of-type {\n",
       "        vertical-align: middle;\n",
       "    }\n",
       "\n",
       "    .dataframe tbody tr th {\n",
       "        vertical-align: top;\n",
       "    }\n",
       "\n",
       "    .dataframe thead th {\n",
       "        text-align: right;\n",
       "    }\n",
       "</style>\n",
       "<table border=\"1\" class=\"dataframe\">\n",
       "  <thead>\n",
       "    <tr style=\"text-align: right;\">\n",
       "      <th></th>\n",
       "      <th>Date</th>\n",
       "      <th>Daily Cases</th>\n",
       "      <th>Total Cases</th>\n",
       "      <th>Total Deaths</th>\n",
       "      <th>Total Recovered</th>\n",
       "      <th>Active Cases</th>\n",
       "      <th>Daily Test Cases</th>\n",
       "      <th>Total Intensive Care</th>\n",
       "      <th>Intubated Cases</th>\n",
       "      <th>Case incrase rate %</th>\n",
       "      <th>Daily(Cases/Test) %</th>\n",
       "      <th>(Recovered / Active Cases) %</th>\n",
       "      <th>(Death / Active Cases) %</th>\n",
       "      <th>(Active Cases / Population) %</th>\n",
       "    </tr>\n",
       "  </thead>\n",
       "  <tbody>\n",
       "    <tr>\n",
       "      <th>142</th>\n",
       "      <td>7/31/2020</td>\n",
       "      <td>982</td>\n",
       "      <td>231347</td>\n",
       "      <td>5691</td>\n",
       "      <td>214535</td>\n",
       "      <td>11121</td>\n",
       "      <td>46492.0</td>\n",
       "      <td>0.088</td>\n",
       "      <td>582.0</td>\n",
       "      <td>0.43</td>\n",
       "      <td>2.12</td>\n",
       "      <td>1929.10</td>\n",
       "      <td>51.18</td>\n",
       "      <td>0.013217</td>\n",
       "    </tr>\n",
       "    <tr>\n",
       "      <th>143</th>\n",
       "      <td>8/1/2020</td>\n",
       "      <td>996</td>\n",
       "      <td>232343</td>\n",
       "      <td>5710</td>\n",
       "      <td>215516</td>\n",
       "      <td>11117</td>\n",
       "      <td>44846.0</td>\n",
       "      <td>0.087</td>\n",
       "      <td>586.0</td>\n",
       "      <td>0.44</td>\n",
       "      <td>2.23</td>\n",
       "      <td>1938.62</td>\n",
       "      <td>51.37</td>\n",
       "      <td>0.013213</td>\n",
       "    </tr>\n",
       "    <tr>\n",
       "      <th>144</th>\n",
       "      <td>8/2/2020</td>\n",
       "      <td>987</td>\n",
       "      <td>233330</td>\n",
       "      <td>5728</td>\n",
       "      <td>216494</td>\n",
       "      <td>11108</td>\n",
       "      <td>40247.0</td>\n",
       "      <td>0.085</td>\n",
       "      <td>582.0</td>\n",
       "      <td>0.43</td>\n",
       "      <td>2.46</td>\n",
       "      <td>1949.00</td>\n",
       "      <td>51.57</td>\n",
       "      <td>0.013202</td>\n",
       "    </tr>\n",
       "    <tr>\n",
       "      <th>145</th>\n",
       "      <td>8/3/2020</td>\n",
       "      <td>995</td>\n",
       "      <td>234325</td>\n",
       "      <td>5747</td>\n",
       "      <td>217497</td>\n",
       "      <td>11081</td>\n",
       "      <td>41301.0</td>\n",
       "      <td>0.084</td>\n",
       "      <td>580.0</td>\n",
       "      <td>0.43</td>\n",
       "      <td>2.41</td>\n",
       "      <td>1962.80</td>\n",
       "      <td>51.87</td>\n",
       "      <td>0.013170</td>\n",
       "    </tr>\n",
       "    <tr>\n",
       "      <th>146</th>\n",
       "      <td>8/4/2020</td>\n",
       "      <td>1083</td>\n",
       "      <td>235408</td>\n",
       "      <td>5765</td>\n",
       "      <td>218491</td>\n",
       "      <td>11152</td>\n",
       "      <td>46249.0</td>\n",
       "      <td>0.085</td>\n",
       "      <td>583.0</td>\n",
       "      <td>0.47</td>\n",
       "      <td>2.35</td>\n",
       "      <td>1959.21</td>\n",
       "      <td>51.70</td>\n",
       "      <td>0.013254</td>\n",
       "    </tr>\n",
       "  </tbody>\n",
       "</table>\n",
       "</div>"
      ],
      "text/plain": [
       "          Date  Daily Cases  Total Cases  Total Deaths  Total Recovered  \\\n",
       "142  7/31/2020          982       231347          5691           214535   \n",
       "143   8/1/2020          996       232343          5710           215516   \n",
       "144   8/2/2020          987       233330          5728           216494   \n",
       "145   8/3/2020          995       234325          5747           217497   \n",
       "146   8/4/2020         1083       235408          5765           218491   \n",
       "\n",
       "     Active Cases  Daily Test Cases Total Intensive Care  Intubated Cases  \\\n",
       "142         11121           46492.0                0.088            582.0   \n",
       "143         11117           44846.0                0.087            586.0   \n",
       "144         11108           40247.0                0.085            582.0   \n",
       "145         11081           41301.0                0.084            580.0   \n",
       "146         11152           46249.0                0.085            583.0   \n",
       "\n",
       "     Case incrase rate %  Daily(Cases/Test) %  (Recovered / Active Cases) %  \\\n",
       "142                 0.43                 2.12                       1929.10   \n",
       "143                 0.44                 2.23                       1938.62   \n",
       "144                 0.43                 2.46                       1949.00   \n",
       "145                 0.43                 2.41                       1962.80   \n",
       "146                 0.47                 2.35                       1959.21   \n",
       "\n",
       "     (Death / Active Cases) %  (Active Cases / Population) %  \n",
       "142                     51.18                       0.013217  \n",
       "143                     51.37                       0.013213  \n",
       "144                     51.57                       0.013202  \n",
       "145                     51.87                       0.013170  \n",
       "146                     51.70                       0.013254  "
      ]
     },
     "execution_count": 3,
     "metadata": {},
     "output_type": "execute_result"
    }
   ],
   "source": [
    "data.tail()"
   ]
  },
  {
   "cell_type": "code",
   "execution_count": 4,
   "metadata": {},
   "outputs": [],
   "source": [
    "data = data.rename(columns = {\n",
    "    \"Date\" : \"Tarih\",\n",
    "    \"Daily Cases\" : \"GunlukVaka\",\n",
    "    \"Total Cases\" : \"ToplamVaka\",\n",
    "    \"Total Deaths\" : \"ToplamOlum\",\n",
    "    \"Total Recovered\" : \"ToplamIyılesen\",\n",
    "    \"Active Cases\" : \"AktifVaka\",\n",
    "    \"Daily Test Cases\" : \"GunlukTest\",\n",
    "    \"Total Intensive Care\" : \"ToplamAgirVaka\",\n",
    "    \"Intubated Cases\" : \"EntubeHasta\",\n",
    "    \"Case incrase rate %\" : \"VakaArtisOrani\",\n",
    "    \"Daily(Cases/Test) %\" : \"GunlukVakaTestOrani\",\n",
    "    \"(Recovered / Active Cases) %\" : \"IyilesenAktifVakaOrani\",\n",
    "    \"(Death / Active Cases) %\" : \"OlumAktifVakaOrani\",\n",
    "    \"(Active Cases / Population) %\" : \"AktifVakaNufusOrani\"\n",
    "})"
   ]
  },
  {
   "cell_type": "code",
   "execution_count": 5,
   "metadata": {},
   "outputs": [
    {
     "name": "stdout",
     "output_type": "stream",
     "text": [
      "<class 'pandas.core.frame.DataFrame'>\n",
      "RangeIndex: 147 entries, 0 to 146\n",
      "Data columns (total 14 columns):\n",
      " #   Column                  Non-Null Count  Dtype  \n",
      "---  ------                  --------------  -----  \n",
      " 0   Tarih                   147 non-null    object \n",
      " 1   GunlukVaka              147 non-null    int64  \n",
      " 2   ToplamVaka              147 non-null    int64  \n",
      " 3   ToplamOlum              147 non-null    int64  \n",
      " 4   ToplamIyılesen          147 non-null    int64  \n",
      " 5   AktifVaka               147 non-null    int64  \n",
      " 6   GunlukTest              139 non-null    float64\n",
      " 7   ToplamAgirVaka          131 non-null    object \n",
      " 8   EntubeHasta             131 non-null    float64\n",
      " 9   VakaArtisOrani          147 non-null    float64\n",
      " 10  GunlukVakaTestOrani     139 non-null    float64\n",
      " 11  IyilesenAktifVakaOrani  147 non-null    float64\n",
      " 12  OlumAktifVakaOrani      147 non-null    float64\n",
      " 13  AktifVakaNufusOrani     147 non-null    float64\n",
      "dtypes: float64(7), int64(5), object(2)\n",
      "memory usage: 16.2+ KB\n"
     ]
    }
   ],
   "source": [
    "data.info()"
   ]
  },
  {
   "cell_type": "code",
   "execution_count": 6,
   "metadata": {},
   "outputs": [
    {
     "data": {
      "text/plain": [
       "Tarih                      0\n",
       "GunlukVaka                 0\n",
       "ToplamVaka                 0\n",
       "ToplamOlum                 0\n",
       "ToplamIyılesen             0\n",
       "AktifVaka                  0\n",
       "GunlukTest                 8\n",
       "ToplamAgirVaka            16\n",
       "EntubeHasta               16\n",
       "VakaArtisOrani             0\n",
       "GunlukVakaTestOrani        8\n",
       "IyilesenAktifVakaOrani     0\n",
       "OlumAktifVakaOrani         0\n",
       "AktifVakaNufusOrani        0\n",
       "dtype: int64"
      ]
     },
     "execution_count": 6,
     "metadata": {},
     "output_type": "execute_result"
    }
   ],
   "source": [
    "data.isnull().sum()"
   ]
  },
  {
   "cell_type": "code",
   "execution_count": 7,
   "metadata": {},
   "outputs": [],
   "source": [
    "data[\"GunlukTest\"].fillna(data[\"GunlukTest\"].mean(), inplace = True)\n",
    "data[\"GunlukVakaTestOrani\"].fillna(data[\"GunlukVaka\"] / data[\"GunlukTest\"], inplace = True)\n",
    "data[\"ToplamAgirVaka\"].fillna(method = \"bfill\", inplace = True)\n",
    "data[\"EntubeHasta\"].fillna(method = \"bfill\", inplace = True)"
   ]
  },
  {
   "cell_type": "code",
   "execution_count": 8,
   "metadata": {},
   "outputs": [
    {
     "data": {
      "text/plain": [
       "Tarih                     0\n",
       "GunlukVaka                0\n",
       "ToplamVaka                0\n",
       "ToplamOlum                0\n",
       "ToplamIyılesen            0\n",
       "AktifVaka                 0\n",
       "GunlukTest                0\n",
       "ToplamAgirVaka            0\n",
       "EntubeHasta               0\n",
       "VakaArtisOrani            0\n",
       "GunlukVakaTestOrani       0\n",
       "IyilesenAktifVakaOrani    0\n",
       "OlumAktifVakaOrani        0\n",
       "AktifVakaNufusOrani       0\n",
       "dtype: int64"
      ]
     },
     "execution_count": 8,
     "metadata": {},
     "output_type": "execute_result"
    }
   ],
   "source": [
    "data.isnull().sum()"
   ]
  },
  {
   "cell_type": "code",
   "execution_count": 9,
   "metadata": {},
   "outputs": [
    {
     "data": {
      "text/html": [
       "<div>\n",
       "<style scoped>\n",
       "    .dataframe tbody tr th:only-of-type {\n",
       "        vertical-align: middle;\n",
       "    }\n",
       "\n",
       "    .dataframe tbody tr th {\n",
       "        vertical-align: top;\n",
       "    }\n",
       "\n",
       "    .dataframe thead th {\n",
       "        text-align: right;\n",
       "    }\n",
       "</style>\n",
       "<table border=\"1\" class=\"dataframe\">\n",
       "  <thead>\n",
       "    <tr style=\"text-align: right;\">\n",
       "      <th></th>\n",
       "      <th>Tarih</th>\n",
       "      <th>GunlukVaka</th>\n",
       "      <th>ToplamVaka</th>\n",
       "      <th>ToplamOlum</th>\n",
       "      <th>ToplamIyılesen</th>\n",
       "      <th>AktifVaka</th>\n",
       "      <th>GunlukTest</th>\n",
       "      <th>ToplamAgirVaka</th>\n",
       "      <th>EntubeHasta</th>\n",
       "      <th>VakaArtisOrani</th>\n",
       "      <th>GunlukVakaTestOrani</th>\n",
       "      <th>IyilesenAktifVakaOrani</th>\n",
       "      <th>OlumAktifVakaOrani</th>\n",
       "      <th>AktifVakaNufusOrani</th>\n",
       "    </tr>\n",
       "  </thead>\n",
       "  <tbody>\n",
       "    <tr>\n",
       "      <th>0</th>\n",
       "      <td>3/11/2020</td>\n",
       "      <td>1</td>\n",
       "      <td>1</td>\n",
       "      <td>0</td>\n",
       "      <td>0</td>\n",
       "      <td>1</td>\n",
       "      <td>35645.978417</td>\n",
       "      <td>344</td>\n",
       "      <td>241.0</td>\n",
       "      <td>0.0</td>\n",
       "      <td>0.000028</td>\n",
       "      <td>0.0</td>\n",
       "      <td>0.0</td>\n",
       "      <td>0.000001</td>\n",
       "    </tr>\n",
       "    <tr>\n",
       "      <th>1</th>\n",
       "      <td>3/12/2020</td>\n",
       "      <td>0</td>\n",
       "      <td>1</td>\n",
       "      <td>0</td>\n",
       "      <td>0</td>\n",
       "      <td>1</td>\n",
       "      <td>35645.978417</td>\n",
       "      <td>344</td>\n",
       "      <td>241.0</td>\n",
       "      <td>0.0</td>\n",
       "      <td>0.000000</td>\n",
       "      <td>0.0</td>\n",
       "      <td>0.0</td>\n",
       "      <td>0.000001</td>\n",
       "    </tr>\n",
       "    <tr>\n",
       "      <th>2</th>\n",
       "      <td>3/13/2020</td>\n",
       "      <td>4</td>\n",
       "      <td>5</td>\n",
       "      <td>0</td>\n",
       "      <td>0</td>\n",
       "      <td>5</td>\n",
       "      <td>35645.978417</td>\n",
       "      <td>344</td>\n",
       "      <td>241.0</td>\n",
       "      <td>400.0</td>\n",
       "      <td>0.000112</td>\n",
       "      <td>0.0</td>\n",
       "      <td>0.0</td>\n",
       "      <td>0.000006</td>\n",
       "    </tr>\n",
       "    <tr>\n",
       "      <th>3</th>\n",
       "      <td>3/14/2020</td>\n",
       "      <td>1</td>\n",
       "      <td>6</td>\n",
       "      <td>0</td>\n",
       "      <td>0</td>\n",
       "      <td>6</td>\n",
       "      <td>35645.978417</td>\n",
       "      <td>344</td>\n",
       "      <td>241.0</td>\n",
       "      <td>20.0</td>\n",
       "      <td>0.000028</td>\n",
       "      <td>0.0</td>\n",
       "      <td>0.0</td>\n",
       "      <td>0.000007</td>\n",
       "    </tr>\n",
       "    <tr>\n",
       "      <th>4</th>\n",
       "      <td>3/15/2020</td>\n",
       "      <td>12</td>\n",
       "      <td>18</td>\n",
       "      <td>0</td>\n",
       "      <td>0</td>\n",
       "      <td>18</td>\n",
       "      <td>35645.978417</td>\n",
       "      <td>344</td>\n",
       "      <td>241.0</td>\n",
       "      <td>200.0</td>\n",
       "      <td>0.000337</td>\n",
       "      <td>0.0</td>\n",
       "      <td>0.0</td>\n",
       "      <td>0.000021</td>\n",
       "    </tr>\n",
       "  </tbody>\n",
       "</table>\n",
       "</div>"
      ],
      "text/plain": [
       "       Tarih  GunlukVaka  ToplamVaka  ToplamOlum  ToplamIyılesen  AktifVaka  \\\n",
       "0  3/11/2020           1           1           0               0          1   \n",
       "1  3/12/2020           0           1           0               0          1   \n",
       "2  3/13/2020           4           5           0               0          5   \n",
       "3  3/14/2020           1           6           0               0          6   \n",
       "4  3/15/2020          12          18           0               0         18   \n",
       "\n",
       "     GunlukTest ToplamAgirVaka  EntubeHasta  VakaArtisOrani  \\\n",
       "0  35645.978417            344        241.0             0.0   \n",
       "1  35645.978417            344        241.0             0.0   \n",
       "2  35645.978417            344        241.0           400.0   \n",
       "3  35645.978417            344        241.0            20.0   \n",
       "4  35645.978417            344        241.0           200.0   \n",
       "\n",
       "   GunlukVakaTestOrani  IyilesenAktifVakaOrani  OlumAktifVakaOrani  \\\n",
       "0             0.000028                     0.0                 0.0   \n",
       "1             0.000000                     0.0                 0.0   \n",
       "2             0.000112                     0.0                 0.0   \n",
       "3             0.000028                     0.0                 0.0   \n",
       "4             0.000337                     0.0                 0.0   \n",
       "\n",
       "   AktifVakaNufusOrani  \n",
       "0             0.000001  \n",
       "1             0.000001  \n",
       "2             0.000006  \n",
       "3             0.000007  \n",
       "4             0.000021  "
      ]
     },
     "execution_count": 9,
     "metadata": {},
     "output_type": "execute_result"
    }
   ],
   "source": [
    "data.head()"
   ]
  },
  {
   "cell_type": "code",
   "execution_count": 10,
   "metadata": {},
   "outputs": [
    {
     "data": {
      "text/plain": [
       "(147, 14)"
      ]
     },
     "execution_count": 10,
     "metadata": {},
     "output_type": "execute_result"
    }
   ],
   "source": [
    "data.shape"
   ]
  },
  {
   "cell_type": "code",
   "execution_count": 15,
   "metadata": {},
   "outputs": [
    {
     "data": {
      "application/vnd.plotly.v1+json": {
       "config": {
        "plotlyServerURL": "https://plot.ly"
       },
       "data": [
        {
         "hovertemplate": "GunlukTest=%{x}<br>GunlukVaka=%{y}<br>GunlukVakaTestOrani=%{marker.size}<br>AktifVaka=%{marker.color}<extra></extra>",
         "legendgroup": "",
         "marker": {
          "color": [
           1,
           1,
           5,
           6,
           18,
           47,
           97,
           188,
           355,
           661,
           926,
           1206,
           1492,
           1828,
           2348,
           3528,
           5564,
           7224,
           8981,
           10497,
           13074,
           15069,
           17364,
           20012,
           22647,
           25453,
           28242,
           31802,
           35568,
           39232,
           43600,
           48101,
           52312,
           55796,
           58909,
           62200,
           65461,
           68146,
           69986,
           72313,
           75410,
           78414,
           79821,
           80808,
           80575,
           79485,
           78185,
           75570,
           72852,
           70468,
           68144,
           65326,
           62780,
           59497,
           56032,
           52686,
           49958,
           47096,
           45484,
           43896,
           42180,
           40150,
           38692,
           37447,
           36712,
           36269,
           35834,
           35333,
           34845,
           34521,
           34378,
           34309,
           34282,
           34250,
           34267,
           33904,
           33332,
           33047,
           32623,
           32142,
           32078,
           31903,
           31733,
           31523,
           31435,
           31476,
           30766,
           29701,
           27945,
           25504,
           23261,
           21925,
           21844,
           21812,
           22272,
           22489,
           23116,
           23551,
           23700,
           23601,
           23298,
           23212,
           22969,
           22864,
           22790,
           22872,
           22837,
           22722,
           22093,
           22021,
           22163,
           22138,
           21000,
           20626,
           20466,
           20386,
           20327,
           19082,
           17819,
           16619,
           14746,
           14233,
           13894,
           13589,
           13422,
           13345,
           13262,
           13087,
           12981,
           12703,
           12614,
           12536,
           12437,
           12117,
           11861,
           11772,
           11574,
           11474,
           11394,
           11250,
           11182,
           11152,
           11121,
           11117,
           11108,
           11081,
           11152
          ],
          "coloraxis": "coloraxis",
          "size": [
           2.8053655542685856e-05,
           0,
           0.00011221462217074343,
           2.8053655542685856e-05,
           0.00033664386651223026,
           0.0008135560107378899,
           0.0014307364326769786,
           0.0026089899654697843,
           8.49,
           8.51,
           9.39,
           16.44,
           7.98,
           8.68,
           11.15,
           16.42,
           27.47,
           22.31,
           18.19,
           13.96,
           17.54,
           14.93,
           13.1,
           17.25,
           15.33,
           15.63,
           14.72,
           19.44,
           16.54,
           14.2,
           15.39,
           15.49,
           13.41,
           11.88,
           12.29,
           12.56,
           11.88,
           10.81,
           9.34,
           11.58,
           11.78,
           11.7,
           8.22,
           7.61,
           8.15,
           7.47,
           7.82,
           10.58,
           8.19,
           6.75,
           6.23,
           5.21,
           5.47,
           6.96,
           4.52,
           5.51,
           7.44,
           6.51,
           5.49,
           4.35,
           4.27,
           3.41,
           4.57,
           4.92,
           4.7,
           4.43,
           3.82,
           3.87,
           4.61,
           4.03,
           4.67,
           3.79,
           2.99,
           3.72,
           4.65,
           4.6,
           4.78,
           4.92,
           3.53,
           3.16,
           2.51,
           2.36,
           2.63,
           2.44,
           1.66,
           1.83,
           1.61,
           2.45,
           2.59,
           2.52,
           2.67,
           2.53,
           2.01,
           2.92,
           3.24,
           3.46,
           3.79,
           3.14,
           2.71,
           2.7,
           2.94,
           3.04,
           2.95,
           2.93,
           2.96,
           2.79,
           2.79,
           2.73,
           3.04,
           2.81,
           2.7,
           2.57,
           2.28,
           2.39,
           2.25,
           2.4,
           2.48,
           2.09,
           2.09,
           2.12,
           2.05,
           2.06,
           2.09,
           2.24,
           2.17,
           2.3,
           2.24,
           2.2,
           2.25,
           2.25,
           2.24,
           2.15,
           2.17,
           2.08,
           2.11,
           2.18,
           2.13,
           2.32,
           2.03,
           2.04,
           2.07,
           2.24,
           2.12,
           2.23,
           2.46,
           2.41,
           2.35
          ],
          "sizemode": "area",
          "sizeref": 0.068675,
          "symbol": "circle"
         },
         "mode": "markers",
         "name": "",
         "orientation": "v",
         "showlegend": false,
         "type": "scatter",
         "x": [
          35645.97841726619,
          35645.97841726619,
          35645.97841726619,
          35645.97841726619,
          35645.97841726619,
          35645.97841726619,
          35645.97841726619,
          35645.97841726619,
          1981,
          3656,
          2953,
          1758,
          3672,
          3952,
          5035,
          7286,
          7533,
          7641,
          9982,
          11535,
          15422,
          14396,
          18757,
          16160,
          19664,
          20065,
          21400,
          20023,
          24900,
          28578,
          30864,
          33170,
          35720,
          34456,
          33070,
          34090,
          40427,
          40270,
          40520,
          34344,
          39703,
          39429,
          37535,
          40962,
          38351,
          38308,
          30177,
          20143,
          29230,
          43498,
          42004,
          42004,
          36318,
          24001,
          35771,
          33283,
          30303,
          30395,
          33687,
          35605,
          36187,
          32722,
          37351,
          33332,
          34821,
          38565,
          42236,
          35369,
          25141,
          25382,
          20838,
          25382,
          37507,
          40178,
          24589,
          21492,
          19853,
          21043,
          33559,
          36155,
          39230,
          35600,
          31525,
          32325,
          52305,
          54234,
          57829,
          35846,
          35335,
          39361,
          37225,
          36521,
          49190,
          41013,
          45092,
          45176,
          42032,
          46800,
          52901,
          48412,
          41316,
          41112,
          40496,
          41413,
          42982,
          53486,
          52303,
          51198,
          45213,
          48309,
          51014,
          50492,
          52313,
          49714,
          52141,
          48248,
          46414,
          52193,
          50545,
          49302,
          50103,
          48787,
          48813,
          45232,
          46492,
          43231,
          42320,
          42411,
          41215,
          40943,
          41310,
          43404,
          42846,
          43404,
          43343,
          42986,
          43312,
          40016,
          45283,
          47412,
          45712,
          43236,
          46492,
          44846,
          40247,
          41301,
          46249
         ],
         "xaxis": "x",
         "y": [
          1,
          0,
          4,
          1,
          12,
          29,
          51,
          93,
          168,
          311,
          277,
          289,
          293,
          343,
          561,
          1196,
          2069,
          1704,
          1815,
          1610,
          2704,
          2148,
          2456,
          2786,
          3013,
          3135,
          3148,
          3892,
          4117,
          4056,
          4747,
          5138,
          4789,
          4093,
          4062,
          4281,
          4801,
          4353,
          3783,
          3977,
          4674,
          4611,
          3083,
          3116,
          3122,
          2861,
          2357,
          2131,
          2392,
          2936,
          2615,
          2188,
          1983,
          1670,
          1614,
          1832,
          2253,
          1977,
          1848,
          1546,
          1542,
          1114,
          1704,
          1639,
          1635,
          1708,
          1610,
          1368,
          1158,
          1022,
          972,
          961,
          1121,
          1491,
          1141,
          987,
          948,
          1035,
          1182,
          1141,
          983,
          839,
          827,
          786,
          867,
          988,
          930,
          878,
          914,
          989,
          993,
          922,
          987,
          1195,
          1459,
          1562,
          1592,
          1467,
          1429,
          1304,
          1214,
          1248,
          1192,
          1212,
          1268,
          1492,
          1458,
          1396,
          1372,
          1356,
          1374,
          1293,
          1192,
          1186,
          1172,
          1154,
          1148,
          1086,
          1053,
          1041,
          1024,
          1003,
          1016,
          1012,
          1008,
          992,
          947,
          933,
          926,
          918,
          924,
          931,
          928,
          902,
          913,
          937,
          921,
          927,
          919,
          963,
          942,
          967,
          982,
          996,
          987,
          995,
          1083
         ],
         "yaxis": "y"
        }
       ],
       "layout": {
        "coloraxis": {
         "colorbar": {
          "title": {
           "text": "AktifVaka"
          }
         },
         "colorscale": [
          [
           0,
           "#0d0887"
          ],
          [
           0.1111111111111111,
           "#46039f"
          ],
          [
           0.2222222222222222,
           "#7201a8"
          ],
          [
           0.3333333333333333,
           "#9c179e"
          ],
          [
           0.4444444444444444,
           "#bd3786"
          ],
          [
           0.5555555555555556,
           "#d8576b"
          ],
          [
           0.6666666666666666,
           "#ed7953"
          ],
          [
           0.7777777777777778,
           "#fb9f3a"
          ],
          [
           0.8888888888888888,
           "#fdca26"
          ],
          [
           1,
           "#f0f921"
          ]
         ]
        },
        "height": 400,
        "legend": {
         "itemsizing": "constant",
         "tracegroupgap": 0
        },
        "template": {
         "data": {
          "bar": [
           {
            "error_x": {
             "color": "#2a3f5f"
            },
            "error_y": {
             "color": "#2a3f5f"
            },
            "marker": {
             "line": {
              "color": "#E5ECF6",
              "width": 0.5
             }
            },
            "type": "bar"
           }
          ],
          "barpolar": [
           {
            "marker": {
             "line": {
              "color": "#E5ECF6",
              "width": 0.5
             }
            },
            "type": "barpolar"
           }
          ],
          "carpet": [
           {
            "aaxis": {
             "endlinecolor": "#2a3f5f",
             "gridcolor": "white",
             "linecolor": "white",
             "minorgridcolor": "white",
             "startlinecolor": "#2a3f5f"
            },
            "baxis": {
             "endlinecolor": "#2a3f5f",
             "gridcolor": "white",
             "linecolor": "white",
             "minorgridcolor": "white",
             "startlinecolor": "#2a3f5f"
            },
            "type": "carpet"
           }
          ],
          "choropleth": [
           {
            "colorbar": {
             "outlinewidth": 0,
             "ticks": ""
            },
            "type": "choropleth"
           }
          ],
          "contour": [
           {
            "colorbar": {
             "outlinewidth": 0,
             "ticks": ""
            },
            "colorscale": [
             [
              0,
              "#0d0887"
             ],
             [
              0.1111111111111111,
              "#46039f"
             ],
             [
              0.2222222222222222,
              "#7201a8"
             ],
             [
              0.3333333333333333,
              "#9c179e"
             ],
             [
              0.4444444444444444,
              "#bd3786"
             ],
             [
              0.5555555555555556,
              "#d8576b"
             ],
             [
              0.6666666666666666,
              "#ed7953"
             ],
             [
              0.7777777777777778,
              "#fb9f3a"
             ],
             [
              0.8888888888888888,
              "#fdca26"
             ],
             [
              1,
              "#f0f921"
             ]
            ],
            "type": "contour"
           }
          ],
          "contourcarpet": [
           {
            "colorbar": {
             "outlinewidth": 0,
             "ticks": ""
            },
            "type": "contourcarpet"
           }
          ],
          "heatmap": [
           {
            "colorbar": {
             "outlinewidth": 0,
             "ticks": ""
            },
            "colorscale": [
             [
              0,
              "#0d0887"
             ],
             [
              0.1111111111111111,
              "#46039f"
             ],
             [
              0.2222222222222222,
              "#7201a8"
             ],
             [
              0.3333333333333333,
              "#9c179e"
             ],
             [
              0.4444444444444444,
              "#bd3786"
             ],
             [
              0.5555555555555556,
              "#d8576b"
             ],
             [
              0.6666666666666666,
              "#ed7953"
             ],
             [
              0.7777777777777778,
              "#fb9f3a"
             ],
             [
              0.8888888888888888,
              "#fdca26"
             ],
             [
              1,
              "#f0f921"
             ]
            ],
            "type": "heatmap"
           }
          ],
          "heatmapgl": [
           {
            "colorbar": {
             "outlinewidth": 0,
             "ticks": ""
            },
            "colorscale": [
             [
              0,
              "#0d0887"
             ],
             [
              0.1111111111111111,
              "#46039f"
             ],
             [
              0.2222222222222222,
              "#7201a8"
             ],
             [
              0.3333333333333333,
              "#9c179e"
             ],
             [
              0.4444444444444444,
              "#bd3786"
             ],
             [
              0.5555555555555556,
              "#d8576b"
             ],
             [
              0.6666666666666666,
              "#ed7953"
             ],
             [
              0.7777777777777778,
              "#fb9f3a"
             ],
             [
              0.8888888888888888,
              "#fdca26"
             ],
             [
              1,
              "#f0f921"
             ]
            ],
            "type": "heatmapgl"
           }
          ],
          "histogram": [
           {
            "marker": {
             "colorbar": {
              "outlinewidth": 0,
              "ticks": ""
             }
            },
            "type": "histogram"
           }
          ],
          "histogram2d": [
           {
            "colorbar": {
             "outlinewidth": 0,
             "ticks": ""
            },
            "colorscale": [
             [
              0,
              "#0d0887"
             ],
             [
              0.1111111111111111,
              "#46039f"
             ],
             [
              0.2222222222222222,
              "#7201a8"
             ],
             [
              0.3333333333333333,
              "#9c179e"
             ],
             [
              0.4444444444444444,
              "#bd3786"
             ],
             [
              0.5555555555555556,
              "#d8576b"
             ],
             [
              0.6666666666666666,
              "#ed7953"
             ],
             [
              0.7777777777777778,
              "#fb9f3a"
             ],
             [
              0.8888888888888888,
              "#fdca26"
             ],
             [
              1,
              "#f0f921"
             ]
            ],
            "type": "histogram2d"
           }
          ],
          "histogram2dcontour": [
           {
            "colorbar": {
             "outlinewidth": 0,
             "ticks": ""
            },
            "colorscale": [
             [
              0,
              "#0d0887"
             ],
             [
              0.1111111111111111,
              "#46039f"
             ],
             [
              0.2222222222222222,
              "#7201a8"
             ],
             [
              0.3333333333333333,
              "#9c179e"
             ],
             [
              0.4444444444444444,
              "#bd3786"
             ],
             [
              0.5555555555555556,
              "#d8576b"
             ],
             [
              0.6666666666666666,
              "#ed7953"
             ],
             [
              0.7777777777777778,
              "#fb9f3a"
             ],
             [
              0.8888888888888888,
              "#fdca26"
             ],
             [
              1,
              "#f0f921"
             ]
            ],
            "type": "histogram2dcontour"
           }
          ],
          "mesh3d": [
           {
            "colorbar": {
             "outlinewidth": 0,
             "ticks": ""
            },
            "type": "mesh3d"
           }
          ],
          "parcoords": [
           {
            "line": {
             "colorbar": {
              "outlinewidth": 0,
              "ticks": ""
             }
            },
            "type": "parcoords"
           }
          ],
          "pie": [
           {
            "automargin": true,
            "type": "pie"
           }
          ],
          "scatter": [
           {
            "marker": {
             "colorbar": {
              "outlinewidth": 0,
              "ticks": ""
             }
            },
            "type": "scatter"
           }
          ],
          "scatter3d": [
           {
            "line": {
             "colorbar": {
              "outlinewidth": 0,
              "ticks": ""
             }
            },
            "marker": {
             "colorbar": {
              "outlinewidth": 0,
              "ticks": ""
             }
            },
            "type": "scatter3d"
           }
          ],
          "scattercarpet": [
           {
            "marker": {
             "colorbar": {
              "outlinewidth": 0,
              "ticks": ""
             }
            },
            "type": "scattercarpet"
           }
          ],
          "scattergeo": [
           {
            "marker": {
             "colorbar": {
              "outlinewidth": 0,
              "ticks": ""
             }
            },
            "type": "scattergeo"
           }
          ],
          "scattergl": [
           {
            "marker": {
             "colorbar": {
              "outlinewidth": 0,
              "ticks": ""
             }
            },
            "type": "scattergl"
           }
          ],
          "scattermapbox": [
           {
            "marker": {
             "colorbar": {
              "outlinewidth": 0,
              "ticks": ""
             }
            },
            "type": "scattermapbox"
           }
          ],
          "scatterpolar": [
           {
            "marker": {
             "colorbar": {
              "outlinewidth": 0,
              "ticks": ""
             }
            },
            "type": "scatterpolar"
           }
          ],
          "scatterpolargl": [
           {
            "marker": {
             "colorbar": {
              "outlinewidth": 0,
              "ticks": ""
             }
            },
            "type": "scatterpolargl"
           }
          ],
          "scatterternary": [
           {
            "marker": {
             "colorbar": {
              "outlinewidth": 0,
              "ticks": ""
             }
            },
            "type": "scatterternary"
           }
          ],
          "surface": [
           {
            "colorbar": {
             "outlinewidth": 0,
             "ticks": ""
            },
            "colorscale": [
             [
              0,
              "#0d0887"
             ],
             [
              0.1111111111111111,
              "#46039f"
             ],
             [
              0.2222222222222222,
              "#7201a8"
             ],
             [
              0.3333333333333333,
              "#9c179e"
             ],
             [
              0.4444444444444444,
              "#bd3786"
             ],
             [
              0.5555555555555556,
              "#d8576b"
             ],
             [
              0.6666666666666666,
              "#ed7953"
             ],
             [
              0.7777777777777778,
              "#fb9f3a"
             ],
             [
              0.8888888888888888,
              "#fdca26"
             ],
             [
              1,
              "#f0f921"
             ]
            ],
            "type": "surface"
           }
          ],
          "table": [
           {
            "cells": {
             "fill": {
              "color": "#EBF0F8"
             },
             "line": {
              "color": "white"
             }
            },
            "header": {
             "fill": {
              "color": "#C8D4E3"
             },
             "line": {
              "color": "white"
             }
            },
            "type": "table"
           }
          ]
         },
         "layout": {
          "annotationdefaults": {
           "arrowcolor": "#2a3f5f",
           "arrowhead": 0,
           "arrowwidth": 1
          },
          "coloraxis": {
           "colorbar": {
            "outlinewidth": 0,
            "ticks": ""
           }
          },
          "colorscale": {
           "diverging": [
            [
             0,
             "#8e0152"
            ],
            [
             0.1,
             "#c51b7d"
            ],
            [
             0.2,
             "#de77ae"
            ],
            [
             0.3,
             "#f1b6da"
            ],
            [
             0.4,
             "#fde0ef"
            ],
            [
             0.5,
             "#f7f7f7"
            ],
            [
             0.6,
             "#e6f5d0"
            ],
            [
             0.7,
             "#b8e186"
            ],
            [
             0.8,
             "#7fbc41"
            ],
            [
             0.9,
             "#4d9221"
            ],
            [
             1,
             "#276419"
            ]
           ],
           "sequential": [
            [
             0,
             "#0d0887"
            ],
            [
             0.1111111111111111,
             "#46039f"
            ],
            [
             0.2222222222222222,
             "#7201a8"
            ],
            [
             0.3333333333333333,
             "#9c179e"
            ],
            [
             0.4444444444444444,
             "#bd3786"
            ],
            [
             0.5555555555555556,
             "#d8576b"
            ],
            [
             0.6666666666666666,
             "#ed7953"
            ],
            [
             0.7777777777777778,
             "#fb9f3a"
            ],
            [
             0.8888888888888888,
             "#fdca26"
            ],
            [
             1,
             "#f0f921"
            ]
           ],
           "sequentialminus": [
            [
             0,
             "#0d0887"
            ],
            [
             0.1111111111111111,
             "#46039f"
            ],
            [
             0.2222222222222222,
             "#7201a8"
            ],
            [
             0.3333333333333333,
             "#9c179e"
            ],
            [
             0.4444444444444444,
             "#bd3786"
            ],
            [
             0.5555555555555556,
             "#d8576b"
            ],
            [
             0.6666666666666666,
             "#ed7953"
            ],
            [
             0.7777777777777778,
             "#fb9f3a"
            ],
            [
             0.8888888888888888,
             "#fdca26"
            ],
            [
             1,
             "#f0f921"
            ]
           ]
          },
          "colorway": [
           "#636efa",
           "#EF553B",
           "#00cc96",
           "#ab63fa",
           "#FFA15A",
           "#19d3f3",
           "#FF6692",
           "#B6E880",
           "#FF97FF",
           "#FECB52"
          ],
          "font": {
           "color": "#2a3f5f"
          },
          "geo": {
           "bgcolor": "white",
           "lakecolor": "white",
           "landcolor": "#E5ECF6",
           "showlakes": true,
           "showland": true,
           "subunitcolor": "white"
          },
          "hoverlabel": {
           "align": "left"
          },
          "hovermode": "closest",
          "mapbox": {
           "style": "light"
          },
          "paper_bgcolor": "white",
          "plot_bgcolor": "#E5ECF6",
          "polar": {
           "angularaxis": {
            "gridcolor": "white",
            "linecolor": "white",
            "ticks": ""
           },
           "bgcolor": "#E5ECF6",
           "radialaxis": {
            "gridcolor": "white",
            "linecolor": "white",
            "ticks": ""
           }
          },
          "scene": {
           "xaxis": {
            "backgroundcolor": "#E5ECF6",
            "gridcolor": "white",
            "gridwidth": 2,
            "linecolor": "white",
            "showbackground": true,
            "ticks": "",
            "zerolinecolor": "white"
           },
           "yaxis": {
            "backgroundcolor": "#E5ECF6",
            "gridcolor": "white",
            "gridwidth": 2,
            "linecolor": "white",
            "showbackground": true,
            "ticks": "",
            "zerolinecolor": "white"
           },
           "zaxis": {
            "backgroundcolor": "#E5ECF6",
            "gridcolor": "white",
            "gridwidth": 2,
            "linecolor": "white",
            "showbackground": true,
            "ticks": "",
            "zerolinecolor": "white"
           }
          },
          "shapedefaults": {
           "line": {
            "color": "#2a3f5f"
           }
          },
          "ternary": {
           "aaxis": {
            "gridcolor": "white",
            "linecolor": "white",
            "ticks": ""
           },
           "baxis": {
            "gridcolor": "white",
            "linecolor": "white",
            "ticks": ""
           },
           "bgcolor": "#E5ECF6",
           "caxis": {
            "gridcolor": "white",
            "linecolor": "white",
            "ticks": ""
           }
          },
          "title": {
           "x": 0.05
          },
          "xaxis": {
           "automargin": true,
           "gridcolor": "white",
           "linecolor": "white",
           "ticks": "",
           "title": {
            "standoff": 15
           },
           "zerolinecolor": "white",
           "zerolinewidth": 2
          },
          "yaxis": {
           "automargin": true,
           "gridcolor": "white",
           "linecolor": "white",
           "ticks": "",
           "title": {
            "standoff": 15
           },
           "zerolinecolor": "white",
           "zerolinewidth": 2
          }
         }
        },
        "title": {
         "text": "GunlukVaka-GunlukTest Iliskisi"
        },
        "width": 800,
        "xaxis": {
         "anchor": "y",
         "domain": [
          0,
          1
         ],
         "title": {
          "text": "GunlukTest"
         },
         "type": "log"
        },
        "yaxis": {
         "anchor": "x",
         "domain": [
          0,
          1
         ],
         "title": {
          "text": "GunlukVaka"
         }
        }
       }
      },
      "text/html": [
       "<div>\n",
       "        \n",
       "        \n",
       "            <div id=\"44c9d918-a57c-4f5f-98db-f1ffa838a1c0\" class=\"plotly-graph-div\" style=\"height:400px; width:800px;\"></div>\n",
       "            <script type=\"text/javascript\">\n",
       "                require([\"plotly\"], function(Plotly) {\n",
       "                    window.PLOTLYENV=window.PLOTLYENV || {};\n",
       "                    \n",
       "                if (document.getElementById(\"44c9d918-a57c-4f5f-98db-f1ffa838a1c0\")) {\n",
       "                    Plotly.newPlot(\n",
       "                        '44c9d918-a57c-4f5f-98db-f1ffa838a1c0',\n",
       "                        [{\"hovertemplate\": \"GunlukTest=%{x}<br>GunlukVaka=%{y}<br>GunlukVakaTestOrani=%{marker.size}<br>AktifVaka=%{marker.color}<extra></extra>\", \"legendgroup\": \"\", \"marker\": {\"color\": [1, 1, 5, 6, 18, 47, 97, 188, 355, 661, 926, 1206, 1492, 1828, 2348, 3528, 5564, 7224, 8981, 10497, 13074, 15069, 17364, 20012, 22647, 25453, 28242, 31802, 35568, 39232, 43600, 48101, 52312, 55796, 58909, 62200, 65461, 68146, 69986, 72313, 75410, 78414, 79821, 80808, 80575, 79485, 78185, 75570, 72852, 70468, 68144, 65326, 62780, 59497, 56032, 52686, 49958, 47096, 45484, 43896, 42180, 40150, 38692, 37447, 36712, 36269, 35834, 35333, 34845, 34521, 34378, 34309, 34282, 34250, 34267, 33904, 33332, 33047, 32623, 32142, 32078, 31903, 31733, 31523, 31435, 31476, 30766, 29701, 27945, 25504, 23261, 21925, 21844, 21812, 22272, 22489, 23116, 23551, 23700, 23601, 23298, 23212, 22969, 22864, 22790, 22872, 22837, 22722, 22093, 22021, 22163, 22138, 21000, 20626, 20466, 20386, 20327, 19082, 17819, 16619, 14746, 14233, 13894, 13589, 13422, 13345, 13262, 13087, 12981, 12703, 12614, 12536, 12437, 12117, 11861, 11772, 11574, 11474, 11394, 11250, 11182, 11152, 11121, 11117, 11108, 11081, 11152], \"coloraxis\": \"coloraxis\", \"size\": [2.8053655542685856e-05, 0.0, 0.00011221462217074343, 2.8053655542685856e-05, 0.00033664386651223026, 0.0008135560107378899, 0.0014307364326769786, 0.0026089899654697843, 8.49, 8.51, 9.39, 16.44, 7.98, 8.68, 11.15, 16.42, 27.47, 22.31, 18.19, 13.96, 17.54, 14.93, 13.1, 17.25, 15.33, 15.63, 14.72, 19.44, 16.54, 14.2, 15.39, 15.49, 13.41, 11.88, 12.29, 12.56, 11.88, 10.81, 9.34, 11.58, 11.78, 11.7, 8.22, 7.61, 8.15, 7.47, 7.82, 10.58, 8.19, 6.75, 6.23, 5.21, 5.47, 6.96, 4.52, 5.51, 7.44, 6.51, 5.49, 4.35, 4.27, 3.41, 4.57, 4.92, 4.7, 4.43, 3.82, 3.87, 4.61, 4.03, 4.67, 3.79, 2.99, 3.72, 4.65, 4.6, 4.78, 4.92, 3.53, 3.16, 2.51, 2.36, 2.63, 2.44, 1.66, 1.83, 1.61, 2.45, 2.59, 2.52, 2.67, 2.53, 2.01, 2.92, 3.24, 3.46, 3.79, 3.14, 2.71, 2.7, 2.94, 3.04, 2.95, 2.93, 2.96, 2.79, 2.79, 2.73, 3.04, 2.81, 2.7, 2.57, 2.28, 2.39, 2.25, 2.4, 2.48, 2.09, 2.09, 2.12, 2.05, 2.06, 2.09, 2.24, 2.17, 2.3, 2.24, 2.2, 2.25, 2.25, 2.24, 2.15, 2.17, 2.08, 2.11, 2.18, 2.13, 2.32, 2.03, 2.04, 2.07, 2.24, 2.12, 2.23, 2.46, 2.41, 2.35], \"sizemode\": \"area\", \"sizeref\": 0.068675, \"symbol\": \"circle\"}, \"mode\": \"markers\", \"name\": \"\", \"orientation\": \"v\", \"showlegend\": false, \"type\": \"scatter\", \"x\": [35645.97841726619, 35645.97841726619, 35645.97841726619, 35645.97841726619, 35645.97841726619, 35645.97841726619, 35645.97841726619, 35645.97841726619, 1981.0, 3656.0, 2953.0, 1758.0, 3672.0, 3952.0, 5035.0, 7286.0, 7533.0, 7641.0, 9982.0, 11535.0, 15422.0, 14396.0, 18757.0, 16160.0, 19664.0, 20065.0, 21400.0, 20023.0, 24900.0, 28578.0, 30864.0, 33170.0, 35720.0, 34456.0, 33070.0, 34090.0, 40427.0, 40270.0, 40520.0, 34344.0, 39703.0, 39429.0, 37535.0, 40962.0, 38351.0, 38308.0, 30177.0, 20143.0, 29230.0, 43498.0, 42004.0, 42004.0, 36318.0, 24001.0, 35771.0, 33283.0, 30303.0, 30395.0, 33687.0, 35605.0, 36187.0, 32722.0, 37351.0, 33332.0, 34821.0, 38565.0, 42236.0, 35369.0, 25141.0, 25382.0, 20838.0, 25382.0, 37507.0, 40178.0, 24589.0, 21492.0, 19853.0, 21043.0, 33559.0, 36155.0, 39230.0, 35600.0, 31525.0, 32325.0, 52305.0, 54234.0, 57829.0, 35846.0, 35335.0, 39361.0, 37225.0, 36521.0, 49190.0, 41013.0, 45092.0, 45176.0, 42032.0, 46800.0, 52901.0, 48412.0, 41316.0, 41112.0, 40496.0, 41413.0, 42982.0, 53486.0, 52303.0, 51198.0, 45213.0, 48309.0, 51014.0, 50492.0, 52313.0, 49714.0, 52141.0, 48248.0, 46414.0, 52193.0, 50545.0, 49302.0, 50103.0, 48787.0, 48813.0, 45232.0, 46492.0, 43231.0, 42320.0, 42411.0, 41215.0, 40943.0, 41310.0, 43404.0, 42846.0, 43404.0, 43343.0, 42986.0, 43312.0, 40016.0, 45283.0, 47412.0, 45712.0, 43236.0, 46492.0, 44846.0, 40247.0, 41301.0, 46249.0], \"xaxis\": \"x\", \"y\": [1, 0, 4, 1, 12, 29, 51, 93, 168, 311, 277, 289, 293, 343, 561, 1196, 2069, 1704, 1815, 1610, 2704, 2148, 2456, 2786, 3013, 3135, 3148, 3892, 4117, 4056, 4747, 5138, 4789, 4093, 4062, 4281, 4801, 4353, 3783, 3977, 4674, 4611, 3083, 3116, 3122, 2861, 2357, 2131, 2392, 2936, 2615, 2188, 1983, 1670, 1614, 1832, 2253, 1977, 1848, 1546, 1542, 1114, 1704, 1639, 1635, 1708, 1610, 1368, 1158, 1022, 972, 961, 1121, 1491, 1141, 987, 948, 1035, 1182, 1141, 983, 839, 827, 786, 867, 988, 930, 878, 914, 989, 993, 922, 987, 1195, 1459, 1562, 1592, 1467, 1429, 1304, 1214, 1248, 1192, 1212, 1268, 1492, 1458, 1396, 1372, 1356, 1374, 1293, 1192, 1186, 1172, 1154, 1148, 1086, 1053, 1041, 1024, 1003, 1016, 1012, 1008, 992, 947, 933, 926, 918, 924, 931, 928, 902, 913, 937, 921, 927, 919, 963, 942, 967, 982, 996, 987, 995, 1083], \"yaxis\": \"y\"}],\n",
       "                        {\"coloraxis\": {\"colorbar\": {\"title\": {\"text\": \"AktifVaka\"}}, \"colorscale\": [[0.0, \"#0d0887\"], [0.1111111111111111, \"#46039f\"], [0.2222222222222222, \"#7201a8\"], [0.3333333333333333, \"#9c179e\"], [0.4444444444444444, \"#bd3786\"], [0.5555555555555556, \"#d8576b\"], [0.6666666666666666, \"#ed7953\"], [0.7777777777777778, \"#fb9f3a\"], [0.8888888888888888, \"#fdca26\"], [1.0, \"#f0f921\"]]}, \"height\": 400, \"legend\": {\"itemsizing\": \"constant\", \"tracegroupgap\": 0}, \"template\": {\"data\": {\"bar\": [{\"error_x\": {\"color\": \"#2a3f5f\"}, \"error_y\": {\"color\": \"#2a3f5f\"}, \"marker\": {\"line\": {\"color\": \"#E5ECF6\", \"width\": 0.5}}, \"type\": \"bar\"}], \"barpolar\": [{\"marker\": {\"line\": {\"color\": \"#E5ECF6\", \"width\": 0.5}}, \"type\": \"barpolar\"}], \"carpet\": [{\"aaxis\": {\"endlinecolor\": \"#2a3f5f\", \"gridcolor\": \"white\", \"linecolor\": \"white\", \"minorgridcolor\": \"white\", \"startlinecolor\": \"#2a3f5f\"}, \"baxis\": {\"endlinecolor\": \"#2a3f5f\", \"gridcolor\": \"white\", \"linecolor\": \"white\", \"minorgridcolor\": \"white\", \"startlinecolor\": \"#2a3f5f\"}, \"type\": \"carpet\"}], \"choropleth\": [{\"colorbar\": {\"outlinewidth\": 0, \"ticks\": \"\"}, \"type\": \"choropleth\"}], \"contour\": [{\"colorbar\": {\"outlinewidth\": 0, \"ticks\": \"\"}, \"colorscale\": [[0.0, \"#0d0887\"], [0.1111111111111111, \"#46039f\"], [0.2222222222222222, \"#7201a8\"], [0.3333333333333333, \"#9c179e\"], [0.4444444444444444, \"#bd3786\"], [0.5555555555555556, \"#d8576b\"], [0.6666666666666666, \"#ed7953\"], [0.7777777777777778, \"#fb9f3a\"], [0.8888888888888888, \"#fdca26\"], [1.0, \"#f0f921\"]], \"type\": \"contour\"}], \"contourcarpet\": [{\"colorbar\": {\"outlinewidth\": 0, \"ticks\": \"\"}, \"type\": \"contourcarpet\"}], \"heatmap\": [{\"colorbar\": {\"outlinewidth\": 0, \"ticks\": \"\"}, \"colorscale\": [[0.0, \"#0d0887\"], [0.1111111111111111, \"#46039f\"], [0.2222222222222222, \"#7201a8\"], [0.3333333333333333, \"#9c179e\"], [0.4444444444444444, \"#bd3786\"], [0.5555555555555556, \"#d8576b\"], [0.6666666666666666, \"#ed7953\"], [0.7777777777777778, \"#fb9f3a\"], [0.8888888888888888, \"#fdca26\"], [1.0, \"#f0f921\"]], \"type\": \"heatmap\"}], \"heatmapgl\": [{\"colorbar\": {\"outlinewidth\": 0, \"ticks\": \"\"}, \"colorscale\": [[0.0, \"#0d0887\"], [0.1111111111111111, \"#46039f\"], [0.2222222222222222, \"#7201a8\"], [0.3333333333333333, \"#9c179e\"], [0.4444444444444444, \"#bd3786\"], [0.5555555555555556, \"#d8576b\"], [0.6666666666666666, \"#ed7953\"], [0.7777777777777778, \"#fb9f3a\"], [0.8888888888888888, \"#fdca26\"], [1.0, \"#f0f921\"]], \"type\": \"heatmapgl\"}], \"histogram\": [{\"marker\": {\"colorbar\": {\"outlinewidth\": 0, \"ticks\": \"\"}}, \"type\": \"histogram\"}], \"histogram2d\": [{\"colorbar\": {\"outlinewidth\": 0, \"ticks\": \"\"}, \"colorscale\": [[0.0, \"#0d0887\"], [0.1111111111111111, \"#46039f\"], [0.2222222222222222, \"#7201a8\"], [0.3333333333333333, \"#9c179e\"], [0.4444444444444444, \"#bd3786\"], [0.5555555555555556, \"#d8576b\"], [0.6666666666666666, \"#ed7953\"], [0.7777777777777778, \"#fb9f3a\"], [0.8888888888888888, \"#fdca26\"], [1.0, \"#f0f921\"]], \"type\": \"histogram2d\"}], \"histogram2dcontour\": [{\"colorbar\": {\"outlinewidth\": 0, \"ticks\": \"\"}, \"colorscale\": [[0.0, \"#0d0887\"], [0.1111111111111111, \"#46039f\"], [0.2222222222222222, \"#7201a8\"], [0.3333333333333333, \"#9c179e\"], [0.4444444444444444, \"#bd3786\"], [0.5555555555555556, \"#d8576b\"], [0.6666666666666666, \"#ed7953\"], [0.7777777777777778, \"#fb9f3a\"], [0.8888888888888888, \"#fdca26\"], [1.0, \"#f0f921\"]], \"type\": \"histogram2dcontour\"}], \"mesh3d\": [{\"colorbar\": {\"outlinewidth\": 0, \"ticks\": \"\"}, \"type\": \"mesh3d\"}], \"parcoords\": [{\"line\": {\"colorbar\": {\"outlinewidth\": 0, \"ticks\": \"\"}}, \"type\": \"parcoords\"}], \"pie\": [{\"automargin\": true, \"type\": \"pie\"}], \"scatter\": [{\"marker\": {\"colorbar\": {\"outlinewidth\": 0, \"ticks\": \"\"}}, \"type\": \"scatter\"}], \"scatter3d\": [{\"line\": {\"colorbar\": {\"outlinewidth\": 0, \"ticks\": \"\"}}, \"marker\": {\"colorbar\": {\"outlinewidth\": 0, \"ticks\": \"\"}}, \"type\": \"scatter3d\"}], \"scattercarpet\": [{\"marker\": {\"colorbar\": {\"outlinewidth\": 0, \"ticks\": \"\"}}, \"type\": \"scattercarpet\"}], \"scattergeo\": [{\"marker\": {\"colorbar\": {\"outlinewidth\": 0, \"ticks\": \"\"}}, \"type\": \"scattergeo\"}], \"scattergl\": [{\"marker\": {\"colorbar\": {\"outlinewidth\": 0, \"ticks\": \"\"}}, \"type\": \"scattergl\"}], \"scattermapbox\": [{\"marker\": {\"colorbar\": {\"outlinewidth\": 0, \"ticks\": \"\"}}, \"type\": \"scattermapbox\"}], \"scatterpolar\": [{\"marker\": {\"colorbar\": {\"outlinewidth\": 0, \"ticks\": \"\"}}, \"type\": \"scatterpolar\"}], \"scatterpolargl\": [{\"marker\": {\"colorbar\": {\"outlinewidth\": 0, \"ticks\": \"\"}}, \"type\": \"scatterpolargl\"}], \"scatterternary\": [{\"marker\": {\"colorbar\": {\"outlinewidth\": 0, \"ticks\": \"\"}}, \"type\": \"scatterternary\"}], \"surface\": [{\"colorbar\": {\"outlinewidth\": 0, \"ticks\": \"\"}, \"colorscale\": [[0.0, \"#0d0887\"], [0.1111111111111111, \"#46039f\"], [0.2222222222222222, \"#7201a8\"], [0.3333333333333333, \"#9c179e\"], [0.4444444444444444, \"#bd3786\"], [0.5555555555555556, \"#d8576b\"], [0.6666666666666666, \"#ed7953\"], [0.7777777777777778, \"#fb9f3a\"], [0.8888888888888888, \"#fdca26\"], [1.0, \"#f0f921\"]], \"type\": \"surface\"}], \"table\": [{\"cells\": {\"fill\": {\"color\": \"#EBF0F8\"}, \"line\": {\"color\": \"white\"}}, \"header\": {\"fill\": {\"color\": \"#C8D4E3\"}, \"line\": {\"color\": \"white\"}}, \"type\": \"table\"}]}, \"layout\": {\"annotationdefaults\": {\"arrowcolor\": \"#2a3f5f\", \"arrowhead\": 0, \"arrowwidth\": 1}, \"coloraxis\": {\"colorbar\": {\"outlinewidth\": 0, \"ticks\": \"\"}}, \"colorscale\": {\"diverging\": [[0, \"#8e0152\"], [0.1, \"#c51b7d\"], [0.2, \"#de77ae\"], [0.3, \"#f1b6da\"], [0.4, \"#fde0ef\"], [0.5, \"#f7f7f7\"], [0.6, \"#e6f5d0\"], [0.7, \"#b8e186\"], [0.8, \"#7fbc41\"], [0.9, \"#4d9221\"], [1, \"#276419\"]], \"sequential\": [[0.0, \"#0d0887\"], [0.1111111111111111, \"#46039f\"], [0.2222222222222222, \"#7201a8\"], [0.3333333333333333, \"#9c179e\"], [0.4444444444444444, \"#bd3786\"], [0.5555555555555556, \"#d8576b\"], [0.6666666666666666, \"#ed7953\"], [0.7777777777777778, \"#fb9f3a\"], [0.8888888888888888, \"#fdca26\"], [1.0, \"#f0f921\"]], \"sequentialminus\": [[0.0, \"#0d0887\"], [0.1111111111111111, \"#46039f\"], [0.2222222222222222, \"#7201a8\"], [0.3333333333333333, \"#9c179e\"], [0.4444444444444444, \"#bd3786\"], [0.5555555555555556, \"#d8576b\"], [0.6666666666666666, \"#ed7953\"], [0.7777777777777778, \"#fb9f3a\"], [0.8888888888888888, \"#fdca26\"], [1.0, \"#f0f921\"]]}, \"colorway\": [\"#636efa\", \"#EF553B\", \"#00cc96\", \"#ab63fa\", \"#FFA15A\", \"#19d3f3\", \"#FF6692\", \"#B6E880\", \"#FF97FF\", \"#FECB52\"], \"font\": {\"color\": \"#2a3f5f\"}, \"geo\": {\"bgcolor\": \"white\", \"lakecolor\": \"white\", \"landcolor\": \"#E5ECF6\", \"showlakes\": true, \"showland\": true, \"subunitcolor\": \"white\"}, \"hoverlabel\": {\"align\": \"left\"}, \"hovermode\": \"closest\", \"mapbox\": {\"style\": \"light\"}, \"paper_bgcolor\": \"white\", \"plot_bgcolor\": \"#E5ECF6\", \"polar\": {\"angularaxis\": {\"gridcolor\": \"white\", \"linecolor\": \"white\", \"ticks\": \"\"}, \"bgcolor\": \"#E5ECF6\", \"radialaxis\": {\"gridcolor\": \"white\", \"linecolor\": \"white\", \"ticks\": \"\"}}, \"scene\": {\"xaxis\": {\"backgroundcolor\": \"#E5ECF6\", \"gridcolor\": \"white\", \"gridwidth\": 2, \"linecolor\": \"white\", \"showbackground\": true, \"ticks\": \"\", \"zerolinecolor\": \"white\"}, \"yaxis\": {\"backgroundcolor\": \"#E5ECF6\", \"gridcolor\": \"white\", \"gridwidth\": 2, \"linecolor\": \"white\", \"showbackground\": true, \"ticks\": \"\", \"zerolinecolor\": \"white\"}, \"zaxis\": {\"backgroundcolor\": \"#E5ECF6\", \"gridcolor\": \"white\", \"gridwidth\": 2, \"linecolor\": \"white\", \"showbackground\": true, \"ticks\": \"\", \"zerolinecolor\": \"white\"}}, \"shapedefaults\": {\"line\": {\"color\": \"#2a3f5f\"}}, \"ternary\": {\"aaxis\": {\"gridcolor\": \"white\", \"linecolor\": \"white\", \"ticks\": \"\"}, \"baxis\": {\"gridcolor\": \"white\", \"linecolor\": \"white\", \"ticks\": \"\"}, \"bgcolor\": \"#E5ECF6\", \"caxis\": {\"gridcolor\": \"white\", \"linecolor\": \"white\", \"ticks\": \"\"}}, \"title\": {\"x\": 0.05}, \"xaxis\": {\"automargin\": true, \"gridcolor\": \"white\", \"linecolor\": \"white\", \"ticks\": \"\", \"title\": {\"standoff\": 15}, \"zerolinecolor\": \"white\", \"zerolinewidth\": 2}, \"yaxis\": {\"automargin\": true, \"gridcolor\": \"white\", \"linecolor\": \"white\", \"ticks\": \"\", \"title\": {\"standoff\": 15}, \"zerolinecolor\": \"white\", \"zerolinewidth\": 2}}}, \"title\": {\"text\": \"GunlukVaka-GunlukTest Iliskisi\"}, \"width\": 800, \"xaxis\": {\"anchor\": \"y\", \"domain\": [0.0, 1.0], \"title\": {\"text\": \"GunlukTest\"}, \"type\": \"log\"}, \"yaxis\": {\"anchor\": \"x\", \"domain\": [0.0, 1.0], \"title\": {\"text\": \"GunlukVaka\"}}},\n",
       "                        {\"responsive\": true}\n",
       "                    ).then(function(){\n",
       "                            \n",
       "var gd = document.getElementById('44c9d918-a57c-4f5f-98db-f1ffa838a1c0');\n",
       "var x = new MutationObserver(function (mutations, observer) {{\n",
       "        var display = window.getComputedStyle(gd).display;\n",
       "        if (!display || display === 'none') {{\n",
       "            console.log([gd, 'removed!']);\n",
       "            Plotly.purge(gd);\n",
       "            observer.disconnect();\n",
       "        }}\n",
       "}});\n",
       "\n",
       "// Listen for the removal of the full notebook cells\n",
       "var notebookContainer = gd.closest('#notebook-container');\n",
       "if (notebookContainer) {{\n",
       "    x.observe(notebookContainer, {childList: true});\n",
       "}}\n",
       "\n",
       "// Listen for the clearing of the current output cell\n",
       "var outputEl = gd.closest('.output');\n",
       "if (outputEl) {{\n",
       "    x.observe(outputEl, {childList: true});\n",
       "}}\n",
       "\n",
       "                        })\n",
       "                };\n",
       "                });\n",
       "            </script>\n",
       "        </div>"
      ]
     },
     "metadata": {},
     "output_type": "display_data"
    }
   ],
   "source": [
    "fig = px.scatter(data, x=\"GunlukTest\", y=\"GunlukVaka\",size=\"GunlukVakaTestOrani\", color='AktifVaka', log_x=1,title='GunlukVaka-GunlukTest Iliskisi',width=800, height=400)\n",
    "fig.show()"
   ]
  },
  {
   "cell_type": "code",
   "execution_count": 16,
   "metadata": {},
   "outputs": [],
   "source": [
    "data.loc[data.ToplamAgirVaka == '=9.4/100', \"ToplamAgirVaka\"] = \"0.094\"\n",
    "data.loc[data.ToplamAgirVaka == '=9.3/100', \"ToplamAgirVaka\"] = \"0.093\""
   ]
  },
  {
   "cell_type": "code",
   "execution_count": 17,
   "metadata": {},
   "outputs": [],
   "source": [
    "df = data.copy()"
   ]
  },
  {
   "cell_type": "code",
   "execution_count": 18,
   "metadata": {},
   "outputs": [
    {
     "name": "stdout",
     "output_type": "stream",
     "text": [
      "<class 'pandas.core.frame.DataFrame'>\n",
      "RangeIndex: 147 entries, 0 to 146\n",
      "Data columns (total 14 columns):\n",
      " #   Column                  Non-Null Count  Dtype  \n",
      "---  ------                  --------------  -----  \n",
      " 0   Tarih                   147 non-null    object \n",
      " 1   GunlukVaka              147 non-null    int64  \n",
      " 2   ToplamVaka              147 non-null    int64  \n",
      " 3   ToplamOlum              147 non-null    int64  \n",
      " 4   ToplamIyılesen          147 non-null    int64  \n",
      " 5   AktifVaka               147 non-null    int64  \n",
      " 6   GunlukTest              147 non-null    float64\n",
      " 7   ToplamAgirVaka          147 non-null    object \n",
      " 8   EntubeHasta             147 non-null    float64\n",
      " 9   VakaArtisOrani          147 non-null    float64\n",
      " 10  GunlukVakaTestOrani     147 non-null    float64\n",
      " 11  IyilesenAktifVakaOrani  147 non-null    float64\n",
      " 12  OlumAktifVakaOrani      147 non-null    float64\n",
      " 13  AktifVakaNufusOrani     147 non-null    float64\n",
      "dtypes: float64(7), int64(5), object(2)\n",
      "memory usage: 16.2+ KB\n"
     ]
    }
   ],
   "source": [
    "df.info()"
   ]
  },
  {
   "cell_type": "code",
   "execution_count": 19,
   "metadata": {},
   "outputs": [
    {
     "name": "stdout",
     "output_type": "stream",
     "text": [
      "13078.166666722223\n"
     ]
    }
   ],
   "source": [
    "sirali = np.sort(df.ToplamVaka)\n",
    "max_deger = np.max(sirali)\n",
    "min_deger = np.min(sirali)\n",
    "DG = max_deger - min_deger\n",
    "k = math.ceil(np.sqrt(303))\n",
    "a = 0.000001\n",
    "c = (DG+a)/k\n",
    "print(c)"
   ]
  },
  {
   "cell_type": "code",
   "execution_count": 20,
   "metadata": {},
   "outputs": [],
   "source": [
    "s_alt = np.zeros((k, 1), dtype=np.float)\n",
    "s_ust = np.zeros((k, 1), dtype=np.float)\n",
    "s_alt[0] = min_deger\n",
    "s_ust[0] = s_alt[1]-0.1\n",
    "for i in range(1, k):\n",
    "    s_alt[i] = (s_alt[i-1] + c)\n",
    "s_ust[:] = s_alt[:] + (c-0.01)"
   ]
  },
  {
   "cell_type": "code",
   "execution_count": 21,
   "metadata": {},
   "outputs": [],
   "source": [
    "s_ort = np.zeros((k, 1), dtype=np.float)\n",
    "for i in range(k):\n",
    "    s_ort[i] = (s_alt[i] + s_ust[i]) / 2"
   ]
  },
  {
   "cell_type": "code",
   "execution_count": 22,
   "metadata": {},
   "outputs": [],
   "source": [
    "for i in df.ToplamVaka:\n",
    "    for j in range(k):\n",
    "        if((s_alt[j]<i) & (i<s_ust[j])):\n",
    "            z = s_ort[j]\n",
    "            df.loc[df.ToplamVaka == i, \"ToplamVaka\"] = int(z)"
   ]
  },
  {
   "cell_type": "code",
   "execution_count": 23,
   "metadata": {},
   "outputs": [],
   "source": [
    "df['ToplamAgirVaka'] = df['ToplamAgirVaka'].astype(\"float\")"
   ]
  },
  {
   "cell_type": "code",
   "execution_count": 24,
   "metadata": {},
   "outputs": [
    {
     "name": "stdout",
     "output_type": "stream",
     "text": [
      "<class 'pandas.core.frame.DataFrame'>\n",
      "RangeIndex: 147 entries, 0 to 146\n",
      "Data columns (total 14 columns):\n",
      " #   Column                  Non-Null Count  Dtype  \n",
      "---  ------                  --------------  -----  \n",
      " 0   Tarih                   147 non-null    object \n",
      " 1   GunlukVaka              147 non-null    int64  \n",
      " 2   ToplamVaka              147 non-null    int64  \n",
      " 3   ToplamOlum              147 non-null    int64  \n",
      " 4   ToplamIyılesen          147 non-null    int64  \n",
      " 5   AktifVaka               147 non-null    int64  \n",
      " 6   GunlukTest              147 non-null    float64\n",
      " 7   ToplamAgirVaka          147 non-null    float64\n",
      " 8   EntubeHasta             147 non-null    float64\n",
      " 9   VakaArtisOrani          147 non-null    float64\n",
      " 10  GunlukVakaTestOrani     147 non-null    float64\n",
      " 11  IyilesenAktifVakaOrani  147 non-null    float64\n",
      " 12  OlumAktifVakaOrani      147 non-null    float64\n",
      " 13  AktifVakaNufusOrani     147 non-null    float64\n",
      "dtypes: float64(8), int64(5), object(1)\n",
      "memory usage: 16.2+ KB\n"
     ]
    }
   ],
   "source": [
    "df.info()"
   ]
  },
  {
   "cell_type": "code",
   "execution_count": 25,
   "metadata": {},
   "outputs": [
    {
     "name": "stdout",
     "output_type": "stream",
     "text": [
      "106.77311116666667\n"
     ]
    }
   ],
   "source": [
    "sirali = np.sort(df.ToplamAgirVaka)\n",
    "max_deger = np.max(sirali)\n",
    "min_deger = np.min(sirali)\n",
    "DG = max_deger - min_deger\n",
    "k = math.ceil(np.sqrt(303))\n",
    "a = 0.000001\n",
    "c = (DG+a)/k\n",
    "print(c)"
   ]
  },
  {
   "cell_type": "code",
   "execution_count": 26,
   "metadata": {},
   "outputs": [],
   "source": [
    "s_alt = np.zeros((k, 1), dtype=np.float)\n",
    "s_ust = np.zeros((k, 1), dtype=np.float)\n",
    "s_alt[0] = min_deger\n",
    "s_ust[0] = s_alt[1]-0.1\n",
    "for i in range(1, k):\n",
    "    s_alt[i] = (s_alt[i-1] + c)\n",
    "s_ust[:] = s_alt[:] + (c-0.001)"
   ]
  },
  {
   "cell_type": "code",
   "execution_count": 27,
   "metadata": {},
   "outputs": [],
   "source": [
    "s_ort = np.zeros((k, 1), dtype=np.float)\n",
    "for i in range(k):\n",
    "    s_ort[i] = (s_alt[i] + s_ust[i]) / 2"
   ]
  },
  {
   "cell_type": "code",
   "execution_count": 28,
   "metadata": {},
   "outputs": [],
   "source": [
    "for i in df.ToplamAgirVaka:\n",
    "    for j in range(k):\n",
    "        if((s_alt[j]<i) & (i<s_ust[j])):\n",
    "            z = s_ort[j]\n",
    "            df.loc[df.ToplamAgirVaka == i, \"ToplamAgirVaka\"] = int(z)"
   ]
  },
  {
   "cell_type": "code",
   "execution_count": 29,
   "metadata": {},
   "outputs": [
    {
     "data": {
      "application/vnd.plotly.v1+json": {
       "config": {
        "plotlyServerURL": "https://plot.ly"
       },
       "data": [
        {
         "alignmentgroup": "True",
         "hovertemplate": "ToplamVaka=%{x}<br>ToplamAgirVaka=%{y}<br>EntubeHasta=%{marker.color}<extra></extra>",
         "legendgroup": "",
         "marker": {
          "color": [
           241,
           241,
           241,
           241,
           241,
           241,
           241,
           241,
           241,
           241,
           241,
           241,
           241,
           241,
           241,
           241,
           241,
           309,
           394,
           523,
           622,
           692,
           783,
           867,
           909,
           935,
           966,
           987,
           995,
           1017,
           1062,
           1021,
           978,
           1063,
           1087,
           1052,
           1040,
           1014,
           1054,
           1031,
           1033,
           1006,
           985,
           982,
           929,
           900,
           883,
           882,
           845,
           831,
           803,
           818,
           778,
           766,
           727,
           707,
           669,
           665,
           653,
           628,
           598,
           578,
           576,
           535,
           508,
           490,
           474,
           468,
           463,
           455,
           445,
           424,
           401,
           388,
           385,
           371,
           338,
           331,
           339,
           324,
           308,
           287,
           283,
           271,
           261,
           265,
           269,
           264,
           274,
           261,
           281,
           280,
           266,
           282,
           284,
           290,
           291,
           303,
           306,
           311,
           310,
           318,
           327,
           345,
           362,
           356,
           369,
           382,
           366,
           381,
           375,
           368,
           362,
           372,
           374,
           378,
           392,
           412,
           400,
           406,
           399,
           402,
           401,
           409,
           402,
           396,
           401,
           394,
           402,
           394,
           398,
           385,
           379,
           381,
           378,
           379,
           386,
           387,
           392,
           403,
           542,
           561,
           582,
           586,
           582,
           580,
           583
          ],
          "coloraxis": "coloraxis"
         },
         "name": "",
         "offsetgroup": "",
         "orientation": "v",
         "showlegend": false,
         "textposition": "auto",
         "type": "bar",
         "x": [
          1,
          1,
          6540,
          6540,
          6540,
          6540,
          6540,
          6540,
          6540,
          6540,
          6540,
          6540,
          6540,
          6540,
          6540,
          6540,
          6540,
          6540,
          6540,
          6540,
          19618,
          19618,
          19618,
          19618,
          19618,
          32696,
          32696,
          32696,
          32696,
          45774,
          45774,
          45774,
          58852,
          58852,
          58852,
          71930,
          71930,
          85009,
          85009,
          85009,
          85009,
          98087,
          98087,
          98087,
          111165,
          111165,
          111165,
          111165,
          111165,
          111165,
          124243,
          124243,
          124243,
          124243,
          124243,
          124243,
          137321,
          137321,
          137321,
          137321,
          137321,
          137321,
          137321,
          137321,
          150399,
          150399,
          150399,
          150399,
          150399,
          150399,
          150399,
          150399,
          150399,
          150399,
          163478,
          163478,
          163478,
          163478,
          163478,
          163478,
          163478,
          163478,
          163478,
          163478,
          163478,
          163478,
          163478,
          163478,
          176556,
          176556,
          176556,
          176556,
          176556,
          176556,
          176556,
          176556,
          176556,
          176556,
          189634,
          189634,
          189634,
          189634,
          189634,
          189634,
          189634,
          189634,
          189634,
          189634,
          202712,
          202712,
          202712,
          202712,
          202712,
          202712,
          202712,
          202712,
          202712,
          202712,
          202712,
          215790,
          215790,
          215790,
          215790,
          215790,
          215790,
          215790,
          215790,
          215790,
          215790,
          215790,
          215790,
          215790,
          215790,
          228868,
          228868,
          228868,
          228868,
          228868,
          228868,
          228868,
          228868,
          228868,
          228868,
          228868,
          228868,
          228868,
          235408
         ],
         "xaxis": "x",
         "y": [
          373,
          373,
          373,
          373,
          373,
          373,
          373,
          373,
          373,
          373,
          373,
          373,
          373,
          373,
          373,
          373,
          373,
          480,
          587,
          694,
          800,
          1014,
          1121,
          1227,
          1334,
          1334,
          1441,
          1441,
          1441,
          1548,
          1655,
          1655,
          1655,
          1761,
          1761,
          1868,
          1868,
          1868,
          1868,
          1922,
          1868,
          1868,
          1761,
          1868,
          1761,
          1761,
          1761,
          1761,
          1655,
          1548,
          1548,
          1441,
          1441,
          1441,
          1334,
          1334,
          1227,
          1227,
          1227,
          1121,
          1121,
          1121,
          1014,
          1014,
          1014,
          907,
          907,
          907,
          907,
          907,
          907,
          800,
          800,
          800,
          800,
          800,
          694,
          694,
          694,
          694,
          694,
          694,
          694,
          587,
          587,
          587,
          587,
          587,
          587,
          587,
          694,
          587,
          694,
          694,
          694,
          694,
          694,
          694,
          694,
          800,
          800,
          800,
          800,
          800,
          907,
          907,
          907,
          1014,
          1014,
          1014,
          1014,
          1014,
          1014,
          1014,
          1121,
          1121,
          1121,
          1227,
          1121,
          1121,
          1227,
          1227,
          1227,
          1227,
          1227,
          1227,
          1227,
          1227,
          1227,
          1227,
          1227,
          1227,
          1227,
          1227,
          1227,
          1227,
          1227,
          1227,
          1227,
          1227,
          53,
          53,
          53,
          53,
          53,
          0.084,
          53
         ],
         "yaxis": "y"
        }
       ],
       "layout": {
        "barmode": "relative",
        "coloraxis": {
         "colorbar": {
          "title": {
           "text": "EntubeHasta"
          }
         },
         "colorscale": [
          [
           0,
           "#0d0887"
          ],
          [
           0.1111111111111111,
           "#46039f"
          ],
          [
           0.2222222222222222,
           "#7201a8"
          ],
          [
           0.3333333333333333,
           "#9c179e"
          ],
          [
           0.4444444444444444,
           "#bd3786"
          ],
          [
           0.5555555555555556,
           "#d8576b"
          ],
          [
           0.6666666666666666,
           "#ed7953"
          ],
          [
           0.7777777777777778,
           "#fb9f3a"
          ],
          [
           0.8888888888888888,
           "#fdca26"
          ],
          [
           1,
           "#f0f921"
          ]
         ]
        },
        "legend": {
         "tracegroupgap": 0
        },
        "template": {
         "data": {
          "bar": [
           {
            "error_x": {
             "color": "#2a3f5f"
            },
            "error_y": {
             "color": "#2a3f5f"
            },
            "marker": {
             "line": {
              "color": "#E5ECF6",
              "width": 0.5
             }
            },
            "type": "bar"
           }
          ],
          "barpolar": [
           {
            "marker": {
             "line": {
              "color": "#E5ECF6",
              "width": 0.5
             }
            },
            "type": "barpolar"
           }
          ],
          "carpet": [
           {
            "aaxis": {
             "endlinecolor": "#2a3f5f",
             "gridcolor": "white",
             "linecolor": "white",
             "minorgridcolor": "white",
             "startlinecolor": "#2a3f5f"
            },
            "baxis": {
             "endlinecolor": "#2a3f5f",
             "gridcolor": "white",
             "linecolor": "white",
             "minorgridcolor": "white",
             "startlinecolor": "#2a3f5f"
            },
            "type": "carpet"
           }
          ],
          "choropleth": [
           {
            "colorbar": {
             "outlinewidth": 0,
             "ticks": ""
            },
            "type": "choropleth"
           }
          ],
          "contour": [
           {
            "colorbar": {
             "outlinewidth": 0,
             "ticks": ""
            },
            "colorscale": [
             [
              0,
              "#0d0887"
             ],
             [
              0.1111111111111111,
              "#46039f"
             ],
             [
              0.2222222222222222,
              "#7201a8"
             ],
             [
              0.3333333333333333,
              "#9c179e"
             ],
             [
              0.4444444444444444,
              "#bd3786"
             ],
             [
              0.5555555555555556,
              "#d8576b"
             ],
             [
              0.6666666666666666,
              "#ed7953"
             ],
             [
              0.7777777777777778,
              "#fb9f3a"
             ],
             [
              0.8888888888888888,
              "#fdca26"
             ],
             [
              1,
              "#f0f921"
             ]
            ],
            "type": "contour"
           }
          ],
          "contourcarpet": [
           {
            "colorbar": {
             "outlinewidth": 0,
             "ticks": ""
            },
            "type": "contourcarpet"
           }
          ],
          "heatmap": [
           {
            "colorbar": {
             "outlinewidth": 0,
             "ticks": ""
            },
            "colorscale": [
             [
              0,
              "#0d0887"
             ],
             [
              0.1111111111111111,
              "#46039f"
             ],
             [
              0.2222222222222222,
              "#7201a8"
             ],
             [
              0.3333333333333333,
              "#9c179e"
             ],
             [
              0.4444444444444444,
              "#bd3786"
             ],
             [
              0.5555555555555556,
              "#d8576b"
             ],
             [
              0.6666666666666666,
              "#ed7953"
             ],
             [
              0.7777777777777778,
              "#fb9f3a"
             ],
             [
              0.8888888888888888,
              "#fdca26"
             ],
             [
              1,
              "#f0f921"
             ]
            ],
            "type": "heatmap"
           }
          ],
          "heatmapgl": [
           {
            "colorbar": {
             "outlinewidth": 0,
             "ticks": ""
            },
            "colorscale": [
             [
              0,
              "#0d0887"
             ],
             [
              0.1111111111111111,
              "#46039f"
             ],
             [
              0.2222222222222222,
              "#7201a8"
             ],
             [
              0.3333333333333333,
              "#9c179e"
             ],
             [
              0.4444444444444444,
              "#bd3786"
             ],
             [
              0.5555555555555556,
              "#d8576b"
             ],
             [
              0.6666666666666666,
              "#ed7953"
             ],
             [
              0.7777777777777778,
              "#fb9f3a"
             ],
             [
              0.8888888888888888,
              "#fdca26"
             ],
             [
              1,
              "#f0f921"
             ]
            ],
            "type": "heatmapgl"
           }
          ],
          "histogram": [
           {
            "marker": {
             "colorbar": {
              "outlinewidth": 0,
              "ticks": ""
             }
            },
            "type": "histogram"
           }
          ],
          "histogram2d": [
           {
            "colorbar": {
             "outlinewidth": 0,
             "ticks": ""
            },
            "colorscale": [
             [
              0,
              "#0d0887"
             ],
             [
              0.1111111111111111,
              "#46039f"
             ],
             [
              0.2222222222222222,
              "#7201a8"
             ],
             [
              0.3333333333333333,
              "#9c179e"
             ],
             [
              0.4444444444444444,
              "#bd3786"
             ],
             [
              0.5555555555555556,
              "#d8576b"
             ],
             [
              0.6666666666666666,
              "#ed7953"
             ],
             [
              0.7777777777777778,
              "#fb9f3a"
             ],
             [
              0.8888888888888888,
              "#fdca26"
             ],
             [
              1,
              "#f0f921"
             ]
            ],
            "type": "histogram2d"
           }
          ],
          "histogram2dcontour": [
           {
            "colorbar": {
             "outlinewidth": 0,
             "ticks": ""
            },
            "colorscale": [
             [
              0,
              "#0d0887"
             ],
             [
              0.1111111111111111,
              "#46039f"
             ],
             [
              0.2222222222222222,
              "#7201a8"
             ],
             [
              0.3333333333333333,
              "#9c179e"
             ],
             [
              0.4444444444444444,
              "#bd3786"
             ],
             [
              0.5555555555555556,
              "#d8576b"
             ],
             [
              0.6666666666666666,
              "#ed7953"
             ],
             [
              0.7777777777777778,
              "#fb9f3a"
             ],
             [
              0.8888888888888888,
              "#fdca26"
             ],
             [
              1,
              "#f0f921"
             ]
            ],
            "type": "histogram2dcontour"
           }
          ],
          "mesh3d": [
           {
            "colorbar": {
             "outlinewidth": 0,
             "ticks": ""
            },
            "type": "mesh3d"
           }
          ],
          "parcoords": [
           {
            "line": {
             "colorbar": {
              "outlinewidth": 0,
              "ticks": ""
             }
            },
            "type": "parcoords"
           }
          ],
          "pie": [
           {
            "automargin": true,
            "type": "pie"
           }
          ],
          "scatter": [
           {
            "marker": {
             "colorbar": {
              "outlinewidth": 0,
              "ticks": ""
             }
            },
            "type": "scatter"
           }
          ],
          "scatter3d": [
           {
            "line": {
             "colorbar": {
              "outlinewidth": 0,
              "ticks": ""
             }
            },
            "marker": {
             "colorbar": {
              "outlinewidth": 0,
              "ticks": ""
             }
            },
            "type": "scatter3d"
           }
          ],
          "scattercarpet": [
           {
            "marker": {
             "colorbar": {
              "outlinewidth": 0,
              "ticks": ""
             }
            },
            "type": "scattercarpet"
           }
          ],
          "scattergeo": [
           {
            "marker": {
             "colorbar": {
              "outlinewidth": 0,
              "ticks": ""
             }
            },
            "type": "scattergeo"
           }
          ],
          "scattergl": [
           {
            "marker": {
             "colorbar": {
              "outlinewidth": 0,
              "ticks": ""
             }
            },
            "type": "scattergl"
           }
          ],
          "scattermapbox": [
           {
            "marker": {
             "colorbar": {
              "outlinewidth": 0,
              "ticks": ""
             }
            },
            "type": "scattermapbox"
           }
          ],
          "scatterpolar": [
           {
            "marker": {
             "colorbar": {
              "outlinewidth": 0,
              "ticks": ""
             }
            },
            "type": "scatterpolar"
           }
          ],
          "scatterpolargl": [
           {
            "marker": {
             "colorbar": {
              "outlinewidth": 0,
              "ticks": ""
             }
            },
            "type": "scatterpolargl"
           }
          ],
          "scatterternary": [
           {
            "marker": {
             "colorbar": {
              "outlinewidth": 0,
              "ticks": ""
             }
            },
            "type": "scatterternary"
           }
          ],
          "surface": [
           {
            "colorbar": {
             "outlinewidth": 0,
             "ticks": ""
            },
            "colorscale": [
             [
              0,
              "#0d0887"
             ],
             [
              0.1111111111111111,
              "#46039f"
             ],
             [
              0.2222222222222222,
              "#7201a8"
             ],
             [
              0.3333333333333333,
              "#9c179e"
             ],
             [
              0.4444444444444444,
              "#bd3786"
             ],
             [
              0.5555555555555556,
              "#d8576b"
             ],
             [
              0.6666666666666666,
              "#ed7953"
             ],
             [
              0.7777777777777778,
              "#fb9f3a"
             ],
             [
              0.8888888888888888,
              "#fdca26"
             ],
             [
              1,
              "#f0f921"
             ]
            ],
            "type": "surface"
           }
          ],
          "table": [
           {
            "cells": {
             "fill": {
              "color": "#EBF0F8"
             },
             "line": {
              "color": "white"
             }
            },
            "header": {
             "fill": {
              "color": "#C8D4E3"
             },
             "line": {
              "color": "white"
             }
            },
            "type": "table"
           }
          ]
         },
         "layout": {
          "annotationdefaults": {
           "arrowcolor": "#2a3f5f",
           "arrowhead": 0,
           "arrowwidth": 1
          },
          "coloraxis": {
           "colorbar": {
            "outlinewidth": 0,
            "ticks": ""
           }
          },
          "colorscale": {
           "diverging": [
            [
             0,
             "#8e0152"
            ],
            [
             0.1,
             "#c51b7d"
            ],
            [
             0.2,
             "#de77ae"
            ],
            [
             0.3,
             "#f1b6da"
            ],
            [
             0.4,
             "#fde0ef"
            ],
            [
             0.5,
             "#f7f7f7"
            ],
            [
             0.6,
             "#e6f5d0"
            ],
            [
             0.7,
             "#b8e186"
            ],
            [
             0.8,
             "#7fbc41"
            ],
            [
             0.9,
             "#4d9221"
            ],
            [
             1,
             "#276419"
            ]
           ],
           "sequential": [
            [
             0,
             "#0d0887"
            ],
            [
             0.1111111111111111,
             "#46039f"
            ],
            [
             0.2222222222222222,
             "#7201a8"
            ],
            [
             0.3333333333333333,
             "#9c179e"
            ],
            [
             0.4444444444444444,
             "#bd3786"
            ],
            [
             0.5555555555555556,
             "#d8576b"
            ],
            [
             0.6666666666666666,
             "#ed7953"
            ],
            [
             0.7777777777777778,
             "#fb9f3a"
            ],
            [
             0.8888888888888888,
             "#fdca26"
            ],
            [
             1,
             "#f0f921"
            ]
           ],
           "sequentialminus": [
            [
             0,
             "#0d0887"
            ],
            [
             0.1111111111111111,
             "#46039f"
            ],
            [
             0.2222222222222222,
             "#7201a8"
            ],
            [
             0.3333333333333333,
             "#9c179e"
            ],
            [
             0.4444444444444444,
             "#bd3786"
            ],
            [
             0.5555555555555556,
             "#d8576b"
            ],
            [
             0.6666666666666666,
             "#ed7953"
            ],
            [
             0.7777777777777778,
             "#fb9f3a"
            ],
            [
             0.8888888888888888,
             "#fdca26"
            ],
            [
             1,
             "#f0f921"
            ]
           ]
          },
          "colorway": [
           "#636efa",
           "#EF553B",
           "#00cc96",
           "#ab63fa",
           "#FFA15A",
           "#19d3f3",
           "#FF6692",
           "#B6E880",
           "#FF97FF",
           "#FECB52"
          ],
          "font": {
           "color": "#2a3f5f"
          },
          "geo": {
           "bgcolor": "white",
           "lakecolor": "white",
           "landcolor": "#E5ECF6",
           "showlakes": true,
           "showland": true,
           "subunitcolor": "white"
          },
          "hoverlabel": {
           "align": "left"
          },
          "hovermode": "closest",
          "mapbox": {
           "style": "light"
          },
          "paper_bgcolor": "white",
          "plot_bgcolor": "#E5ECF6",
          "polar": {
           "angularaxis": {
            "gridcolor": "white",
            "linecolor": "white",
            "ticks": ""
           },
           "bgcolor": "#E5ECF6",
           "radialaxis": {
            "gridcolor": "white",
            "linecolor": "white",
            "ticks": ""
           }
          },
          "scene": {
           "xaxis": {
            "backgroundcolor": "#E5ECF6",
            "gridcolor": "white",
            "gridwidth": 2,
            "linecolor": "white",
            "showbackground": true,
            "ticks": "",
            "zerolinecolor": "white"
           },
           "yaxis": {
            "backgroundcolor": "#E5ECF6",
            "gridcolor": "white",
            "gridwidth": 2,
            "linecolor": "white",
            "showbackground": true,
            "ticks": "",
            "zerolinecolor": "white"
           },
           "zaxis": {
            "backgroundcolor": "#E5ECF6",
            "gridcolor": "white",
            "gridwidth": 2,
            "linecolor": "white",
            "showbackground": true,
            "ticks": "",
            "zerolinecolor": "white"
           }
          },
          "shapedefaults": {
           "line": {
            "color": "#2a3f5f"
           }
          },
          "ternary": {
           "aaxis": {
            "gridcolor": "white",
            "linecolor": "white",
            "ticks": ""
           },
           "baxis": {
            "gridcolor": "white",
            "linecolor": "white",
            "ticks": ""
           },
           "bgcolor": "#E5ECF6",
           "caxis": {
            "gridcolor": "white",
            "linecolor": "white",
            "ticks": ""
           }
          },
          "title": {
           "x": 0.05
          },
          "xaxis": {
           "automargin": true,
           "gridcolor": "white",
           "linecolor": "white",
           "ticks": "",
           "title": {
            "standoff": 15
           },
           "zerolinecolor": "white",
           "zerolinewidth": 2
          },
          "yaxis": {
           "automargin": true,
           "gridcolor": "white",
           "linecolor": "white",
           "ticks": "",
           "title": {
            "standoff": 15
           },
           "zerolinecolor": "white",
           "zerolinewidth": 2
          }
         }
        },
        "title": {
         "text": "ToplamVaka - AgirHasta Iliskisi"
        },
        "xaxis": {
         "anchor": "y",
         "domain": [
          0,
          1
         ],
         "title": {
          "text": "ToplamVaka"
         }
        },
        "yaxis": {
         "anchor": "x",
         "domain": [
          0,
          1
         ],
         "title": {
          "text": "ToplamAgirVaka"
         }
        }
       }
      },
      "text/html": [
       "<div>\n",
       "        \n",
       "        \n",
       "            <div id=\"e9ecb755-99ea-44e7-a5c9-17e4e6f218b2\" class=\"plotly-graph-div\" style=\"height:525px; width:100%;\"></div>\n",
       "            <script type=\"text/javascript\">\n",
       "                require([\"plotly\"], function(Plotly) {\n",
       "                    window.PLOTLYENV=window.PLOTLYENV || {};\n",
       "                    \n",
       "                if (document.getElementById(\"e9ecb755-99ea-44e7-a5c9-17e4e6f218b2\")) {\n",
       "                    Plotly.newPlot(\n",
       "                        'e9ecb755-99ea-44e7-a5c9-17e4e6f218b2',\n",
       "                        [{\"alignmentgroup\": \"True\", \"hovertemplate\": \"ToplamVaka=%{x}<br>ToplamAgirVaka=%{y}<br>EntubeHasta=%{marker.color}<extra></extra>\", \"legendgroup\": \"\", \"marker\": {\"color\": [241.0, 241.0, 241.0, 241.0, 241.0, 241.0, 241.0, 241.0, 241.0, 241.0, 241.0, 241.0, 241.0, 241.0, 241.0, 241.0, 241.0, 309.0, 394.0, 523.0, 622.0, 692.0, 783.0, 867.0, 909.0, 935.0, 966.0, 987.0, 995.0, 1017.0, 1062.0, 1021.0, 978.0, 1063.0, 1087.0, 1052.0, 1040.0, 1014.0, 1054.0, 1031.0, 1033.0, 1006.0, 985.0, 982.0, 929.0, 900.0, 883.0, 882.0, 845.0, 831.0, 803.0, 818.0, 778.0, 766.0, 727.0, 707.0, 669.0, 665.0, 653.0, 628.0, 598.0, 578.0, 576.0, 535.0, 508.0, 490.0, 474.0, 468.0, 463.0, 455.0, 445.0, 424.0, 401.0, 388.0, 385.0, 371.0, 338.0, 331.0, 339.0, 324.0, 308.0, 287.0, 283.0, 271.0, 261.0, 265.0, 269.0, 264.0, 274.0, 261.0, 281.0, 280.0, 266.0, 282.0, 284.0, 290.0, 291.0, 303.0, 306.0, 311.0, 310.0, 318.0, 327.0, 345.0, 362.0, 356.0, 369.0, 382.0, 366.0, 381.0, 375.0, 368.0, 362.0, 372.0, 374.0, 378.0, 392.0, 412.0, 400.0, 406.0, 399.0, 402.0, 401.0, 409.0, 402.0, 396.0, 401.0, 394.0, 402.0, 394.0, 398.0, 385.0, 379.0, 381.0, 378.0, 379.0, 386.0, 387.0, 392.0, 403.0, 542.0, 561.0, 582.0, 586.0, 582.0, 580.0, 583.0], \"coloraxis\": \"coloraxis\"}, \"name\": \"\", \"offsetgroup\": \"\", \"orientation\": \"v\", \"showlegend\": false, \"textposition\": \"auto\", \"type\": \"bar\", \"x\": [1, 1, 6540, 6540, 6540, 6540, 6540, 6540, 6540, 6540, 6540, 6540, 6540, 6540, 6540, 6540, 6540, 6540, 6540, 6540, 19618, 19618, 19618, 19618, 19618, 32696, 32696, 32696, 32696, 45774, 45774, 45774, 58852, 58852, 58852, 71930, 71930, 85009, 85009, 85009, 85009, 98087, 98087, 98087, 111165, 111165, 111165, 111165, 111165, 111165, 124243, 124243, 124243, 124243, 124243, 124243, 137321, 137321, 137321, 137321, 137321, 137321, 137321, 137321, 150399, 150399, 150399, 150399, 150399, 150399, 150399, 150399, 150399, 150399, 163478, 163478, 163478, 163478, 163478, 163478, 163478, 163478, 163478, 163478, 163478, 163478, 163478, 163478, 176556, 176556, 176556, 176556, 176556, 176556, 176556, 176556, 176556, 176556, 189634, 189634, 189634, 189634, 189634, 189634, 189634, 189634, 189634, 189634, 202712, 202712, 202712, 202712, 202712, 202712, 202712, 202712, 202712, 202712, 202712, 215790, 215790, 215790, 215790, 215790, 215790, 215790, 215790, 215790, 215790, 215790, 215790, 215790, 215790, 228868, 228868, 228868, 228868, 228868, 228868, 228868, 228868, 228868, 228868, 228868, 228868, 228868, 235408], \"xaxis\": \"x\", \"y\": [373.0, 373.0, 373.0, 373.0, 373.0, 373.0, 373.0, 373.0, 373.0, 373.0, 373.0, 373.0, 373.0, 373.0, 373.0, 373.0, 373.0, 480.0, 587.0, 694.0, 800.0, 1014.0, 1121.0, 1227.0, 1334.0, 1334.0, 1441.0, 1441.0, 1441.0, 1548.0, 1655.0, 1655.0, 1655.0, 1761.0, 1761.0, 1868.0, 1868.0, 1868.0, 1868.0, 1922.0, 1868.0, 1868.0, 1761.0, 1868.0, 1761.0, 1761.0, 1761.0, 1761.0, 1655.0, 1548.0, 1548.0, 1441.0, 1441.0, 1441.0, 1334.0, 1334.0, 1227.0, 1227.0, 1227.0, 1121.0, 1121.0, 1121.0, 1014.0, 1014.0, 1014.0, 907.0, 907.0, 907.0, 907.0, 907.0, 907.0, 800.0, 800.0, 800.0, 800.0, 800.0, 694.0, 694.0, 694.0, 694.0, 694.0, 694.0, 694.0, 587.0, 587.0, 587.0, 587.0, 587.0, 587.0, 587.0, 694.0, 587.0, 694.0, 694.0, 694.0, 694.0, 694.0, 694.0, 694.0, 800.0, 800.0, 800.0, 800.0, 800.0, 907.0, 907.0, 907.0, 1014.0, 1014.0, 1014.0, 1014.0, 1014.0, 1014.0, 1014.0, 1121.0, 1121.0, 1121.0, 1227.0, 1121.0, 1121.0, 1227.0, 1227.0, 1227.0, 1227.0, 1227.0, 1227.0, 1227.0, 1227.0, 1227.0, 1227.0, 1227.0, 1227.0, 1227.0, 1227.0, 1227.0, 1227.0, 1227.0, 1227.0, 1227.0, 1227.0, 53.0, 53.0, 53.0, 53.0, 53.0, 0.084, 53.0], \"yaxis\": \"y\"}],\n",
       "                        {\"barmode\": \"relative\", \"coloraxis\": {\"colorbar\": {\"title\": {\"text\": \"EntubeHasta\"}}, \"colorscale\": [[0.0, \"#0d0887\"], [0.1111111111111111, \"#46039f\"], [0.2222222222222222, \"#7201a8\"], [0.3333333333333333, \"#9c179e\"], [0.4444444444444444, \"#bd3786\"], [0.5555555555555556, \"#d8576b\"], [0.6666666666666666, \"#ed7953\"], [0.7777777777777778, \"#fb9f3a\"], [0.8888888888888888, \"#fdca26\"], [1.0, \"#f0f921\"]]}, \"legend\": {\"tracegroupgap\": 0}, \"template\": {\"data\": {\"bar\": [{\"error_x\": {\"color\": \"#2a3f5f\"}, \"error_y\": {\"color\": \"#2a3f5f\"}, \"marker\": {\"line\": {\"color\": \"#E5ECF6\", \"width\": 0.5}}, \"type\": \"bar\"}], \"barpolar\": [{\"marker\": {\"line\": {\"color\": \"#E5ECF6\", \"width\": 0.5}}, \"type\": \"barpolar\"}], \"carpet\": [{\"aaxis\": {\"endlinecolor\": \"#2a3f5f\", \"gridcolor\": \"white\", \"linecolor\": \"white\", \"minorgridcolor\": \"white\", \"startlinecolor\": \"#2a3f5f\"}, \"baxis\": {\"endlinecolor\": \"#2a3f5f\", \"gridcolor\": \"white\", \"linecolor\": \"white\", \"minorgridcolor\": \"white\", \"startlinecolor\": \"#2a3f5f\"}, \"type\": \"carpet\"}], \"choropleth\": [{\"colorbar\": {\"outlinewidth\": 0, \"ticks\": \"\"}, \"type\": \"choropleth\"}], \"contour\": [{\"colorbar\": {\"outlinewidth\": 0, \"ticks\": \"\"}, \"colorscale\": [[0.0, \"#0d0887\"], [0.1111111111111111, \"#46039f\"], [0.2222222222222222, \"#7201a8\"], [0.3333333333333333, \"#9c179e\"], [0.4444444444444444, \"#bd3786\"], [0.5555555555555556, \"#d8576b\"], [0.6666666666666666, \"#ed7953\"], [0.7777777777777778, \"#fb9f3a\"], [0.8888888888888888, \"#fdca26\"], [1.0, \"#f0f921\"]], \"type\": \"contour\"}], \"contourcarpet\": [{\"colorbar\": {\"outlinewidth\": 0, \"ticks\": \"\"}, \"type\": \"contourcarpet\"}], \"heatmap\": [{\"colorbar\": {\"outlinewidth\": 0, \"ticks\": \"\"}, \"colorscale\": [[0.0, \"#0d0887\"], [0.1111111111111111, \"#46039f\"], [0.2222222222222222, \"#7201a8\"], [0.3333333333333333, \"#9c179e\"], [0.4444444444444444, \"#bd3786\"], [0.5555555555555556, \"#d8576b\"], [0.6666666666666666, \"#ed7953\"], [0.7777777777777778, \"#fb9f3a\"], [0.8888888888888888, \"#fdca26\"], [1.0, \"#f0f921\"]], \"type\": \"heatmap\"}], \"heatmapgl\": [{\"colorbar\": {\"outlinewidth\": 0, \"ticks\": \"\"}, \"colorscale\": [[0.0, \"#0d0887\"], [0.1111111111111111, \"#46039f\"], [0.2222222222222222, \"#7201a8\"], [0.3333333333333333, \"#9c179e\"], [0.4444444444444444, \"#bd3786\"], [0.5555555555555556, \"#d8576b\"], [0.6666666666666666, \"#ed7953\"], [0.7777777777777778, \"#fb9f3a\"], [0.8888888888888888, \"#fdca26\"], [1.0, \"#f0f921\"]], \"type\": \"heatmapgl\"}], \"histogram\": [{\"marker\": {\"colorbar\": {\"outlinewidth\": 0, \"ticks\": \"\"}}, \"type\": \"histogram\"}], \"histogram2d\": [{\"colorbar\": {\"outlinewidth\": 0, \"ticks\": \"\"}, \"colorscale\": [[0.0, \"#0d0887\"], [0.1111111111111111, \"#46039f\"], [0.2222222222222222, \"#7201a8\"], [0.3333333333333333, \"#9c179e\"], [0.4444444444444444, \"#bd3786\"], [0.5555555555555556, \"#d8576b\"], [0.6666666666666666, \"#ed7953\"], [0.7777777777777778, \"#fb9f3a\"], [0.8888888888888888, \"#fdca26\"], [1.0, \"#f0f921\"]], \"type\": \"histogram2d\"}], \"histogram2dcontour\": [{\"colorbar\": {\"outlinewidth\": 0, \"ticks\": \"\"}, \"colorscale\": [[0.0, \"#0d0887\"], [0.1111111111111111, \"#46039f\"], [0.2222222222222222, \"#7201a8\"], [0.3333333333333333, \"#9c179e\"], [0.4444444444444444, \"#bd3786\"], [0.5555555555555556, \"#d8576b\"], [0.6666666666666666, \"#ed7953\"], [0.7777777777777778, \"#fb9f3a\"], [0.8888888888888888, \"#fdca26\"], [1.0, \"#f0f921\"]], \"type\": \"histogram2dcontour\"}], \"mesh3d\": [{\"colorbar\": {\"outlinewidth\": 0, \"ticks\": \"\"}, \"type\": \"mesh3d\"}], \"parcoords\": [{\"line\": {\"colorbar\": {\"outlinewidth\": 0, \"ticks\": \"\"}}, \"type\": \"parcoords\"}], \"pie\": [{\"automargin\": true, \"type\": \"pie\"}], \"scatter\": [{\"marker\": {\"colorbar\": {\"outlinewidth\": 0, \"ticks\": \"\"}}, \"type\": \"scatter\"}], \"scatter3d\": [{\"line\": {\"colorbar\": {\"outlinewidth\": 0, \"ticks\": \"\"}}, \"marker\": {\"colorbar\": {\"outlinewidth\": 0, \"ticks\": \"\"}}, \"type\": \"scatter3d\"}], \"scattercarpet\": [{\"marker\": {\"colorbar\": {\"outlinewidth\": 0, \"ticks\": \"\"}}, \"type\": \"scattercarpet\"}], \"scattergeo\": [{\"marker\": {\"colorbar\": {\"outlinewidth\": 0, \"ticks\": \"\"}}, \"type\": \"scattergeo\"}], \"scattergl\": [{\"marker\": {\"colorbar\": {\"outlinewidth\": 0, \"ticks\": \"\"}}, \"type\": \"scattergl\"}], \"scattermapbox\": [{\"marker\": {\"colorbar\": {\"outlinewidth\": 0, \"ticks\": \"\"}}, \"type\": \"scattermapbox\"}], \"scatterpolar\": [{\"marker\": {\"colorbar\": {\"outlinewidth\": 0, \"ticks\": \"\"}}, \"type\": \"scatterpolar\"}], \"scatterpolargl\": [{\"marker\": {\"colorbar\": {\"outlinewidth\": 0, \"ticks\": \"\"}}, \"type\": \"scatterpolargl\"}], \"scatterternary\": [{\"marker\": {\"colorbar\": {\"outlinewidth\": 0, \"ticks\": \"\"}}, \"type\": \"scatterternary\"}], \"surface\": [{\"colorbar\": {\"outlinewidth\": 0, \"ticks\": \"\"}, \"colorscale\": [[0.0, \"#0d0887\"], [0.1111111111111111, \"#46039f\"], [0.2222222222222222, \"#7201a8\"], [0.3333333333333333, \"#9c179e\"], [0.4444444444444444, \"#bd3786\"], [0.5555555555555556, \"#d8576b\"], [0.6666666666666666, \"#ed7953\"], [0.7777777777777778, \"#fb9f3a\"], [0.8888888888888888, \"#fdca26\"], [1.0, \"#f0f921\"]], \"type\": \"surface\"}], \"table\": [{\"cells\": {\"fill\": {\"color\": \"#EBF0F8\"}, \"line\": {\"color\": \"white\"}}, \"header\": {\"fill\": {\"color\": \"#C8D4E3\"}, \"line\": {\"color\": \"white\"}}, \"type\": \"table\"}]}, \"layout\": {\"annotationdefaults\": {\"arrowcolor\": \"#2a3f5f\", \"arrowhead\": 0, \"arrowwidth\": 1}, \"coloraxis\": {\"colorbar\": {\"outlinewidth\": 0, \"ticks\": \"\"}}, \"colorscale\": {\"diverging\": [[0, \"#8e0152\"], [0.1, \"#c51b7d\"], [0.2, \"#de77ae\"], [0.3, \"#f1b6da\"], [0.4, \"#fde0ef\"], [0.5, \"#f7f7f7\"], [0.6, \"#e6f5d0\"], [0.7, \"#b8e186\"], [0.8, \"#7fbc41\"], [0.9, \"#4d9221\"], [1, \"#276419\"]], \"sequential\": [[0.0, \"#0d0887\"], [0.1111111111111111, \"#46039f\"], [0.2222222222222222, \"#7201a8\"], [0.3333333333333333, \"#9c179e\"], [0.4444444444444444, \"#bd3786\"], [0.5555555555555556, \"#d8576b\"], [0.6666666666666666, \"#ed7953\"], [0.7777777777777778, \"#fb9f3a\"], [0.8888888888888888, \"#fdca26\"], [1.0, \"#f0f921\"]], \"sequentialminus\": [[0.0, \"#0d0887\"], [0.1111111111111111, \"#46039f\"], [0.2222222222222222, \"#7201a8\"], [0.3333333333333333, \"#9c179e\"], [0.4444444444444444, \"#bd3786\"], [0.5555555555555556, \"#d8576b\"], [0.6666666666666666, \"#ed7953\"], [0.7777777777777778, \"#fb9f3a\"], [0.8888888888888888, \"#fdca26\"], [1.0, \"#f0f921\"]]}, \"colorway\": [\"#636efa\", \"#EF553B\", \"#00cc96\", \"#ab63fa\", \"#FFA15A\", \"#19d3f3\", \"#FF6692\", \"#B6E880\", \"#FF97FF\", \"#FECB52\"], \"font\": {\"color\": \"#2a3f5f\"}, \"geo\": {\"bgcolor\": \"white\", \"lakecolor\": \"white\", \"landcolor\": \"#E5ECF6\", \"showlakes\": true, \"showland\": true, \"subunitcolor\": \"white\"}, \"hoverlabel\": {\"align\": \"left\"}, \"hovermode\": \"closest\", \"mapbox\": {\"style\": \"light\"}, \"paper_bgcolor\": \"white\", \"plot_bgcolor\": \"#E5ECF6\", \"polar\": {\"angularaxis\": {\"gridcolor\": \"white\", \"linecolor\": \"white\", \"ticks\": \"\"}, \"bgcolor\": \"#E5ECF6\", \"radialaxis\": {\"gridcolor\": \"white\", \"linecolor\": \"white\", \"ticks\": \"\"}}, \"scene\": {\"xaxis\": {\"backgroundcolor\": \"#E5ECF6\", \"gridcolor\": \"white\", \"gridwidth\": 2, \"linecolor\": \"white\", \"showbackground\": true, \"ticks\": \"\", \"zerolinecolor\": \"white\"}, \"yaxis\": {\"backgroundcolor\": \"#E5ECF6\", \"gridcolor\": \"white\", \"gridwidth\": 2, \"linecolor\": \"white\", \"showbackground\": true, \"ticks\": \"\", \"zerolinecolor\": \"white\"}, \"zaxis\": {\"backgroundcolor\": \"#E5ECF6\", \"gridcolor\": \"white\", \"gridwidth\": 2, \"linecolor\": \"white\", \"showbackground\": true, \"ticks\": \"\", \"zerolinecolor\": \"white\"}}, \"shapedefaults\": {\"line\": {\"color\": \"#2a3f5f\"}}, \"ternary\": {\"aaxis\": {\"gridcolor\": \"white\", \"linecolor\": \"white\", \"ticks\": \"\"}, \"baxis\": {\"gridcolor\": \"white\", \"linecolor\": \"white\", \"ticks\": \"\"}, \"bgcolor\": \"#E5ECF6\", \"caxis\": {\"gridcolor\": \"white\", \"linecolor\": \"white\", \"ticks\": \"\"}}, \"title\": {\"x\": 0.05}, \"xaxis\": {\"automargin\": true, \"gridcolor\": \"white\", \"linecolor\": \"white\", \"ticks\": \"\", \"title\": {\"standoff\": 15}, \"zerolinecolor\": \"white\", \"zerolinewidth\": 2}, \"yaxis\": {\"automargin\": true, \"gridcolor\": \"white\", \"linecolor\": \"white\", \"ticks\": \"\", \"title\": {\"standoff\": 15}, \"zerolinecolor\": \"white\", \"zerolinewidth\": 2}}}, \"title\": {\"text\": \"ToplamVaka - AgirHasta Iliskisi\"}, \"xaxis\": {\"anchor\": \"y\", \"domain\": [0.0, 1.0], \"title\": {\"text\": \"ToplamVaka\"}}, \"yaxis\": {\"anchor\": \"x\", \"domain\": [0.0, 1.0], \"title\": {\"text\": \"ToplamAgirVaka\"}}},\n",
       "                        {\"responsive\": true}\n",
       "                    ).then(function(){\n",
       "                            \n",
       "var gd = document.getElementById('e9ecb755-99ea-44e7-a5c9-17e4e6f218b2');\n",
       "var x = new MutationObserver(function (mutations, observer) {{\n",
       "        var display = window.getComputedStyle(gd).display;\n",
       "        if (!display || display === 'none') {{\n",
       "            console.log([gd, 'removed!']);\n",
       "            Plotly.purge(gd);\n",
       "            observer.disconnect();\n",
       "        }}\n",
       "}});\n",
       "\n",
       "// Listen for the removal of the full notebook cells\n",
       "var notebookContainer = gd.closest('#notebook-container');\n",
       "if (notebookContainer) {{\n",
       "    x.observe(notebookContainer, {childList: true});\n",
       "}}\n",
       "\n",
       "// Listen for the clearing of the current output cell\n",
       "var outputEl = gd.closest('.output');\n",
       "if (outputEl) {{\n",
       "    x.observe(outputEl, {childList: true});\n",
       "}}\n",
       "\n",
       "                        })\n",
       "                };\n",
       "                });\n",
       "            </script>\n",
       "        </div>"
      ]
     },
     "metadata": {},
     "output_type": "display_data"
    }
   ],
   "source": [
    "fig = px.bar(df, x=\"ToplamVaka\", y=\"ToplamAgirVaka\", color=\"EntubeHasta\", title=\"ToplamVaka - AgirHasta Iliskisi\")\n",
    "fig.show();"
   ]
  },
  {
   "cell_type": "code",
   "execution_count": 30,
   "metadata": {},
   "outputs": [
    {
     "data": {
      "text/html": [
       "<div>\n",
       "<style scoped>\n",
       "    .dataframe tbody tr th:only-of-type {\n",
       "        vertical-align: middle;\n",
       "    }\n",
       "\n",
       "    .dataframe tbody tr th {\n",
       "        vertical-align: top;\n",
       "    }\n",
       "\n",
       "    .dataframe thead th {\n",
       "        text-align: right;\n",
       "    }\n",
       "</style>\n",
       "<table border=\"1\" class=\"dataframe\">\n",
       "  <thead>\n",
       "    <tr style=\"text-align: right;\">\n",
       "      <th></th>\n",
       "      <th>Tarih</th>\n",
       "      <th>GunlukVaka</th>\n",
       "      <th>ToplamVaka</th>\n",
       "      <th>ToplamOlum</th>\n",
       "      <th>ToplamIyılesen</th>\n",
       "      <th>AktifVaka</th>\n",
       "      <th>GunlukTest</th>\n",
       "      <th>ToplamAgirVaka</th>\n",
       "      <th>EntubeHasta</th>\n",
       "      <th>VakaArtisOrani</th>\n",
       "      <th>GunlukVakaTestOrani</th>\n",
       "      <th>IyilesenAktifVakaOrani</th>\n",
       "      <th>OlumAktifVakaOrani</th>\n",
       "      <th>AktifVakaNufusOrani</th>\n",
       "    </tr>\n",
       "  </thead>\n",
       "  <tbody>\n",
       "    <tr>\n",
       "      <th>0</th>\n",
       "      <td>3/11/2020</td>\n",
       "      <td>1</td>\n",
       "      <td>1</td>\n",
       "      <td>0</td>\n",
       "      <td>0</td>\n",
       "      <td>1</td>\n",
       "      <td>35645.978417</td>\n",
       "      <td>344</td>\n",
       "      <td>241.0</td>\n",
       "      <td>0.0</td>\n",
       "      <td>0.000028</td>\n",
       "      <td>0.0</td>\n",
       "      <td>0.0</td>\n",
       "      <td>0.000001</td>\n",
       "    </tr>\n",
       "    <tr>\n",
       "      <th>1</th>\n",
       "      <td>3/12/2020</td>\n",
       "      <td>0</td>\n",
       "      <td>1</td>\n",
       "      <td>0</td>\n",
       "      <td>0</td>\n",
       "      <td>1</td>\n",
       "      <td>35645.978417</td>\n",
       "      <td>344</td>\n",
       "      <td>241.0</td>\n",
       "      <td>0.0</td>\n",
       "      <td>0.000000</td>\n",
       "      <td>0.0</td>\n",
       "      <td>0.0</td>\n",
       "      <td>0.000001</td>\n",
       "    </tr>\n",
       "    <tr>\n",
       "      <th>2</th>\n",
       "      <td>3/13/2020</td>\n",
       "      <td>4</td>\n",
       "      <td>5</td>\n",
       "      <td>0</td>\n",
       "      <td>0</td>\n",
       "      <td>5</td>\n",
       "      <td>35645.978417</td>\n",
       "      <td>344</td>\n",
       "      <td>241.0</td>\n",
       "      <td>400.0</td>\n",
       "      <td>0.000112</td>\n",
       "      <td>0.0</td>\n",
       "      <td>0.0</td>\n",
       "      <td>0.000006</td>\n",
       "    </tr>\n",
       "    <tr>\n",
       "      <th>3</th>\n",
       "      <td>3/14/2020</td>\n",
       "      <td>1</td>\n",
       "      <td>6</td>\n",
       "      <td>0</td>\n",
       "      <td>0</td>\n",
       "      <td>6</td>\n",
       "      <td>35645.978417</td>\n",
       "      <td>344</td>\n",
       "      <td>241.0</td>\n",
       "      <td>20.0</td>\n",
       "      <td>0.000028</td>\n",
       "      <td>0.0</td>\n",
       "      <td>0.0</td>\n",
       "      <td>0.000007</td>\n",
       "    </tr>\n",
       "    <tr>\n",
       "      <th>4</th>\n",
       "      <td>3/15/2020</td>\n",
       "      <td>12</td>\n",
       "      <td>18</td>\n",
       "      <td>0</td>\n",
       "      <td>0</td>\n",
       "      <td>18</td>\n",
       "      <td>35645.978417</td>\n",
       "      <td>344</td>\n",
       "      <td>241.0</td>\n",
       "      <td>200.0</td>\n",
       "      <td>0.000337</td>\n",
       "      <td>0.0</td>\n",
       "      <td>0.0</td>\n",
       "      <td>0.000021</td>\n",
       "    </tr>\n",
       "  </tbody>\n",
       "</table>\n",
       "</div>"
      ],
      "text/plain": [
       "       Tarih  GunlukVaka  ToplamVaka  ToplamOlum  ToplamIyılesen  AktifVaka  \\\n",
       "0  3/11/2020           1           1           0               0          1   \n",
       "1  3/12/2020           0           1           0               0          1   \n",
       "2  3/13/2020           4           5           0               0          5   \n",
       "3  3/14/2020           1           6           0               0          6   \n",
       "4  3/15/2020          12          18           0               0         18   \n",
       "\n",
       "     GunlukTest ToplamAgirVaka  EntubeHasta  VakaArtisOrani  \\\n",
       "0  35645.978417            344        241.0             0.0   \n",
       "1  35645.978417            344        241.0             0.0   \n",
       "2  35645.978417            344        241.0           400.0   \n",
       "3  35645.978417            344        241.0            20.0   \n",
       "4  35645.978417            344        241.0           200.0   \n",
       "\n",
       "   GunlukVakaTestOrani  IyilesenAktifVakaOrani  OlumAktifVakaOrani  \\\n",
       "0             0.000028                     0.0                 0.0   \n",
       "1             0.000000                     0.0                 0.0   \n",
       "2             0.000112                     0.0                 0.0   \n",
       "3             0.000028                     0.0                 0.0   \n",
       "4             0.000337                     0.0                 0.0   \n",
       "\n",
       "   AktifVakaNufusOrani  \n",
       "0             0.000001  \n",
       "1             0.000001  \n",
       "2             0.000006  \n",
       "3             0.000007  \n",
       "4             0.000021  "
      ]
     },
     "execution_count": 30,
     "metadata": {},
     "output_type": "execute_result"
    }
   ],
   "source": [
    "data.head()"
   ]
  },
  {
   "cell_type": "code",
   "execution_count": 31,
   "metadata": {},
   "outputs": [
    {
     "name": "stderr",
     "output_type": "stream",
     "text": [
      "C:\\Anaconda3\\envs\\Python\\lib\\site-packages\\pandas\\plotting\\_matplotlib\\core.py:1235: UserWarning:\n",
      "\n",
      "FixedFormatter should only be used together with FixedLocator\n",
      "\n"
     ]
    },
    {
     "data": {
      "image/png": "[encoded data removed]",
      "text/plain": [
       "<Figure size 864x360 with 1 Axes>"
      ]
     },
     "metadata": {
      "needs_background": "light"
     },
     "output_type": "display_data"
    }
   ],
   "source": [
    "dategroup=data.groupby('Tarih').mean()\n",
    "plt.figure(figsize=(12,5))\n",
    "dategroup['GunlukTest'].plot(x=data.Tarih)\n",
    "plt.title('GunlukTest');"
   ]
  },
  {
   "cell_type": "code",
   "execution_count": 32,
   "metadata": {},
   "outputs": [
    {
     "name": "stderr",
     "output_type": "stream",
     "text": [
      "C:\\Anaconda3\\envs\\Python\\lib\\site-packages\\pandas\\plotting\\_matplotlib\\core.py:1235: UserWarning:\n",
      "\n",
      "FixedFormatter should only be used together with FixedLocator\n",
      "\n"
     ]
    },
    {
     "data": {
      "image/png": "[encoded data removed]",
      "text/plain": [
       "<Figure size 864x360 with 1 Axes>"
      ]
     },
     "metadata": {
      "needs_background": "light"
     },
     "output_type": "display_data"
    }
   ],
   "source": [
    "dategroup=data.groupby('Tarih').mean()\n",
    "plt.figure(figsize=(12,5))\n",
    "dategroup['GunlukVakaTestOrani'].plot(x=data.Tarih, color = \"red\")\n",
    "plt.title('GunlukVakaTestOrani');"
   ]
  },
  {
   "cell_type": "code",
   "execution_count": 33,
   "metadata": {},
   "outputs": [
    {
     "name": "stderr",
     "output_type": "stream",
     "text": [
      "C:\\Anaconda3\\envs\\Python\\lib\\site-packages\\pandas\\plotting\\_matplotlib\\core.py:1235: UserWarning:\n",
      "\n",
      "FixedFormatter should only be used together with FixedLocator\n",
      "\n"
     ]
    },
    {
     "data": {
      "image/png": "[encoded data removed]",
      "text/plain": [
       "<Figure size 864x360 with 1 Axes>"
      ]
     },
     "metadata": {
      "needs_background": "light"
     },
     "output_type": "display_data"
    }
   ],
   "source": [
    "dategroup=data.groupby('Tarih').mean()\n",
    "plt.figure(figsize=(12,5))\n",
    "dategroup['VakaArtisOrani'].plot(x=data.Tarih, color = \"green\")\n",
    "plt.title('VakaArtisOrani');"
   ]
  },
  {
   "cell_type": "code",
   "execution_count": 34,
   "metadata": {},
   "outputs": [
    {
     "name": "stderr",
     "output_type": "stream",
     "text": [
      "C:\\Anaconda3\\envs\\Python\\lib\\site-packages\\pandas\\plotting\\_matplotlib\\core.py:1235: UserWarning:\n",
      "\n",
      "FixedFormatter should only be used together with FixedLocator\n",
      "\n"
     ]
    },
    {
     "data": {
      "image/png": "[encoded data removed]",
      "text/plain": [
       "<Figure size 864x360 with 1 Axes>"
      ]
     },
     "metadata": {
      "needs_background": "light"
     },
     "output_type": "display_data"
    }
   ],
   "source": [
    "dategroup=data.groupby('Tarih').mean()\n",
    "plt.figure(figsize=(12,5))\n",
    "dategroup['AktifVakaNufusOrani'].plot(x=data.Tarih, color = \"yellow\")\n",
    "plt.title('AktifVakaNufusOrani');"
   ]
  },
  {
   "cell_type": "code",
   "execution_count": 35,
   "metadata": {},
   "outputs": [
    {
     "data": {
      "image/png": "[encoded data removed]",
      "text/plain": [
       "<Figure size 360x360 with 1 Axes>"
      ]
     },
     "metadata": {
      "needs_background": "light"
     },
     "output_type": "display_data"
    }
   ],
   "source": [
    "sns.lmplot(x = \"ToplamAgirVaka\", y = \"EntubeHasta\", data = df);"
   ]
  },
  {
   "cell_type": "code",
   "execution_count": 36,
   "metadata": {},
   "outputs": [
    {
     "data": {
      "text/html": [
       "<div>\n",
       "<style scoped>\n",
       "    .dataframe tbody tr th:only-of-type {\n",
       "        vertical-align: middle;\n",
       "    }\n",
       "\n",
       "    .dataframe tbody tr th {\n",
       "        vertical-align: top;\n",
       "    }\n",
       "\n",
       "    .dataframe thead th {\n",
       "        text-align: right;\n",
       "    }\n",
       "</style>\n",
       "<table border=\"1\" class=\"dataframe\">\n",
       "  <thead>\n",
       "    <tr style=\"text-align: right;\">\n",
       "      <th></th>\n",
       "      <th>Tarih</th>\n",
       "      <th>GunlukVaka</th>\n",
       "      <th>ToplamVaka</th>\n",
       "      <th>ToplamOlum</th>\n",
       "      <th>ToplamIyılesen</th>\n",
       "      <th>AktifVaka</th>\n",
       "      <th>GunlukTest</th>\n",
       "      <th>ToplamAgirVaka</th>\n",
       "      <th>EntubeHasta</th>\n",
       "      <th>VakaArtisOrani</th>\n",
       "      <th>GunlukVakaTestOrani</th>\n",
       "      <th>IyilesenAktifVakaOrani</th>\n",
       "      <th>OlumAktifVakaOrani</th>\n",
       "      <th>AktifVakaNufusOrani</th>\n",
       "    </tr>\n",
       "  </thead>\n",
       "  <tbody>\n",
       "    <tr>\n",
       "      <th>0</th>\n",
       "      <td>3/11/2020</td>\n",
       "      <td>1</td>\n",
       "      <td>1</td>\n",
       "      <td>0</td>\n",
       "      <td>0</td>\n",
       "      <td>1</td>\n",
       "      <td>35645.978417</td>\n",
       "      <td>344</td>\n",
       "      <td>241.0</td>\n",
       "      <td>0.0</td>\n",
       "      <td>0.000028</td>\n",
       "      <td>0.0</td>\n",
       "      <td>0.0</td>\n",
       "      <td>0.000001</td>\n",
       "    </tr>\n",
       "    <tr>\n",
       "      <th>1</th>\n",
       "      <td>3/12/2020</td>\n",
       "      <td>0</td>\n",
       "      <td>1</td>\n",
       "      <td>0</td>\n",
       "      <td>0</td>\n",
       "      <td>1</td>\n",
       "      <td>35645.978417</td>\n",
       "      <td>344</td>\n",
       "      <td>241.0</td>\n",
       "      <td>0.0</td>\n",
       "      <td>0.000000</td>\n",
       "      <td>0.0</td>\n",
       "      <td>0.0</td>\n",
       "      <td>0.000001</td>\n",
       "    </tr>\n",
       "    <tr>\n",
       "      <th>2</th>\n",
       "      <td>3/13/2020</td>\n",
       "      <td>4</td>\n",
       "      <td>5</td>\n",
       "      <td>0</td>\n",
       "      <td>0</td>\n",
       "      <td>5</td>\n",
       "      <td>35645.978417</td>\n",
       "      <td>344</td>\n",
       "      <td>241.0</td>\n",
       "      <td>400.0</td>\n",
       "      <td>0.000112</td>\n",
       "      <td>0.0</td>\n",
       "      <td>0.0</td>\n",
       "      <td>0.000006</td>\n",
       "    </tr>\n",
       "    <tr>\n",
       "      <th>3</th>\n",
       "      <td>3/14/2020</td>\n",
       "      <td>1</td>\n",
       "      <td>6</td>\n",
       "      <td>0</td>\n",
       "      <td>0</td>\n",
       "      <td>6</td>\n",
       "      <td>35645.978417</td>\n",
       "      <td>344</td>\n",
       "      <td>241.0</td>\n",
       "      <td>20.0</td>\n",
       "      <td>0.000028</td>\n",
       "      <td>0.0</td>\n",
       "      <td>0.0</td>\n",
       "      <td>0.000007</td>\n",
       "    </tr>\n",
       "    <tr>\n",
       "      <th>4</th>\n",
       "      <td>3/15/2020</td>\n",
       "      <td>12</td>\n",
       "      <td>18</td>\n",
       "      <td>0</td>\n",
       "      <td>0</td>\n",
       "      <td>18</td>\n",
       "      <td>35645.978417</td>\n",
       "      <td>344</td>\n",
       "      <td>241.0</td>\n",
       "      <td>200.0</td>\n",
       "      <td>0.000337</td>\n",
       "      <td>0.0</td>\n",
       "      <td>0.0</td>\n",
       "      <td>0.000021</td>\n",
       "    </tr>\n",
       "  </tbody>\n",
       "</table>\n",
       "</div>"
      ],
      "text/plain": [
       "       Tarih  GunlukVaka  ToplamVaka  ToplamOlum  ToplamIyılesen  AktifVaka  \\\n",
       "0  3/11/2020           1           1           0               0          1   \n",
       "1  3/12/2020           0           1           0               0          1   \n",
       "2  3/13/2020           4           5           0               0          5   \n",
       "3  3/14/2020           1           6           0               0          6   \n",
       "4  3/15/2020          12          18           0               0         18   \n",
       "\n",
       "     GunlukTest ToplamAgirVaka  EntubeHasta  VakaArtisOrani  \\\n",
       "0  35645.978417            344        241.0             0.0   \n",
       "1  35645.978417            344        241.0             0.0   \n",
       "2  35645.978417            344        241.0           400.0   \n",
       "3  35645.978417            344        241.0            20.0   \n",
       "4  35645.978417            344        241.0           200.0   \n",
       "\n",
       "   GunlukVakaTestOrani  IyilesenAktifVakaOrani  OlumAktifVakaOrani  \\\n",
       "0             0.000028                     0.0                 0.0   \n",
       "1             0.000000                     0.0                 0.0   \n",
       "2             0.000112                     0.0                 0.0   \n",
       "3             0.000028                     0.0                 0.0   \n",
       "4             0.000337                     0.0                 0.0   \n",
       "\n",
       "   AktifVakaNufusOrani  \n",
       "0             0.000001  \n",
       "1             0.000001  \n",
       "2             0.000006  \n",
       "3             0.000007  \n",
       "4             0.000021  "
      ]
     },
     "execution_count": 36,
     "metadata": {},
     "output_type": "execute_result"
    }
   ],
   "source": [
    "data.head()"
   ]
  },
  {
   "cell_type": "code",
   "execution_count": 37,
   "metadata": {},
   "outputs": [
    {
     "data": {
      "application/vnd.plotly.v1+json": {
       "config": {
        "plotlyServerURL": "https://plot.ly"
       },
       "data": [
        {
         "hovertemplate": "IyilesenAktifVakaOrani=%{x}<br>AktifVaka=%{y}<br>ToplamAgirVaka=%{marker.size}<br>EntubeHasta=%{marker.color}<extra></extra>",
         "legendgroup": "",
         "marker": {
          "color": [
           241,
           241,
           241,
           241,
           241,
           241,
           241,
           241,
           241,
           241,
           241,
           241,
           241,
           241,
           241,
           241,
           241,
           309,
           394,
           523,
           622,
           692,
           783,
           867,
           909,
           935,
           966,
           987,
           995,
           1017,
           1062,
           1021,
           978,
           1063,
           1087,
           1052,
           1040,
           1014,
           1054,
           1031,
           1033,
           1006,
           985,
           982,
           929,
           900,
           883,
           882,
           845,
           831,
           803,
           818,
           778,
           766,
           727,
           707,
           669,
           665,
           653,
           628,
           598,
           578,
           576,
           535,
           508,
           490,
           474,
           468,
           463,
           455,
           445,
           424,
           401,
           388,
           385,
           371,
           338,
           331,
           339,
           324,
           308,
           287,
           283,
           271,
           261,
           265,
           269,
           264,
           274,
           261,
           281,
           280,
           266,
           282,
           284,
           290,
           291,
           303,
           306,
           311,
           310,
           318,
           327,
           345,
           362,
           356,
           369,
           382,
           366,
           381,
           375,
           368,
           362,
           372,
           374,
           378,
           392,
           412,
           400,
           406,
           399,
           402,
           401,
           409,
           402,
           396,
           401,
           394,
           402,
           394,
           398,
           385,
           379,
           381,
           378,
           379,
           386,
           387,
           392,
           403,
           542,
           561,
           582,
           586,
           582,
           580,
           583
          ],
          "coloraxis": "coloraxis",
          "size": [
           373,
           373,
           373,
           373,
           373,
           373,
           373,
           373,
           373,
           373,
           373,
           373,
           373,
           373,
           373,
           373,
           373,
           480,
           587,
           694,
           800,
           1014,
           1121,
           1227,
           1334,
           1334,
           1441,
           1441,
           1441,
           1548,
           1655,
           1655,
           1655,
           1761,
           1761,
           1868,
           1868,
           1868,
           1868,
           1922,
           1868,
           1868,
           1761,
           1868,
           1761,
           1761,
           1761,
           1761,
           1655,
           1548,
           1548,
           1441,
           1441,
           1441,
           1334,
           1334,
           1227,
           1227,
           1227,
           1121,
           1121,
           1121,
           1014,
           1014,
           1014,
           907,
           907,
           907,
           907,
           907,
           907,
           800,
           800,
           800,
           800,
           800,
           694,
           694,
           694,
           694,
           694,
           694,
           694,
           587,
           587,
           587,
           587,
           587,
           587,
           587,
           694,
           587,
           694,
           694,
           694,
           694,
           694,
           694,
           694,
           800,
           800,
           800,
           800,
           800,
           907,
           907,
           907,
           1014,
           1014,
           1014,
           1014,
           1014,
           1014,
           1014,
           1121,
           1121,
           1121,
           1227,
           1121,
           1121,
           1227,
           1227,
           1227,
           1227,
           1227,
           1227,
           1227,
           1227,
           1227,
           1227,
           1227,
           1227,
           1227,
           1227,
           1227,
           1227,
           1227,
           1227,
           1227,
           1227,
           53,
           53,
           53,
           53,
           53,
           0.084,
           53
          ],
          "sizemode": "area",
          "sizeref": 4.805,
          "symbol": "circle"
         },
         "mode": "markers",
         "name": "",
         "orientation": "v",
         "showlegend": false,
         "type": "scatter",
         "x": [
          0,
          0,
          0,
          0,
          0,
          0,
          0,
          0,
          0,
          0,
          0,
          0,
          0,
          0,
          1.11,
          0.74,
          0.76,
          0.97,
          1.17,
          1.55,
          1.86,
          2.21,
          2.4,
          2.42,
          3.48,
          4.1,
          4.7,
          4.98,
          5.2,
          5.46,
          5.56,
          6.17,
          6.59,
          7.1,
          8.15,
          9.13,
          10.83,
          12.67,
          14.94,
          16.57,
          17.81,
          19.03,
          20.65,
          22.89,
          26.98,
          32.19,
          37.28,
          44.72,
          53.28,
          62.5,
          71.74,
          82.37,
          92.8,
          106.15,
          121.66,
          139.1,
          156.54,
          176.21,
          189.95,
          203.85,
          219.76,
          238.56,
          255.58,
          271.63,
          283.37,
          292.63,
          301.78,
          311.22,
          320.21,
          327.04,
          331.57,
          335.16,
          338.7,
          343.37,
          346.38,
          353.99,
          364.54,
          371.58,
          381.24,
          391.9,
          395.87,
          401.14,
          406.35,
          412.15,
          416.27,
          418.67,
          433.6,
          455.62,
          493.72,
          554.35,
          621.64,
          669.74,
          676.9,
          683.58,
          673.89,
          673.3,
          659.13,
          651.27,
          652.49,
          661.09,
          676.1,
          684.25,
          697.64,
          706.5,
          714.56,
          718.06,
          725.61,
          735.85,
          765.78,
          774.7,
          775.21,
          781.97,
          835.35,
          857.98,
          871.1,
          880.47,
          888.87,
          959,
          1039.86,
          1128.3,
          1291.13,
          1348.16,
          1390.66,
          1431.42,
          1457.84,
          1474.12,
          1490.98,
          1519.22,
          1539.44,
          1582.41,
          1601.48,
          1619.36,
          1640.36,
          1693.61,
          1739.87,
          1761.59,
          1801.26,
          1825.76,
          1847.2,
          1880.55,
          1900.89,
          1914.81,
          1929.1,
          1938.62,
          1949,
          1962.8,
          1959.21
         ],
         "xaxis": "x",
         "y": [
          1,
          1,
          5,
          6,
          18,
          47,
          97,
          188,
          355,
          661,
          926,
          1206,
          1492,
          1828,
          2348,
          3528,
          5564,
          7224,
          8981,
          10497,
          13074,
          15069,
          17364,
          20012,
          22647,
          25453,
          28242,
          31802,
          35568,
          39232,
          43600,
          48101,
          52312,
          55796,
          58909,
          62200,
          65461,
          68146,
          69986,
          72313,
          75410,
          78414,
          79821,
          80808,
          80575,
          79485,
          78185,
          75570,
          72852,
          70468,
          68144,
          65326,
          62780,
          59497,
          56032,
          52686,
          49958,
          47096,
          45484,
          43896,
          42180,
          40150,
          38692,
          37447,
          36712,
          36269,
          35834,
          35333,
          34845,
          34521,
          34378,
          34309,
          34282,
          34250,
          34267,
          33904,
          33332,
          33047,
          32623,
          32142,
          32078,
          31903,
          31733,
          31523,
          31435,
          31476,
          30766,
          29701,
          27945,
          25504,
          23261,
          21925,
          21844,
          21812,
          22272,
          22489,
          23116,
          23551,
          23700,
          23601,
          23298,
          23212,
          22969,
          22864,
          22790,
          22872,
          22837,
          22722,
          22093,
          22021,
          22163,
          22138,
          21000,
          20626,
          20466,
          20386,
          20327,
          19082,
          17819,
          16619,
          14746,
          14233,
          13894,
          13589,
          13422,
          13345,
          13262,
          13087,
          12981,
          12703,
          12614,
          12536,
          12437,
          12117,
          11861,
          11772,
          11574,
          11474,
          11394,
          11250,
          11182,
          11152,
          11121,
          11117,
          11108,
          11081,
          11152
         ],
         "yaxis": "y"
        }
       ],
       "layout": {
        "coloraxis": {
         "colorbar": {
          "title": {
           "text": "EntubeHasta"
          }
         },
         "colorscale": [
          [
           0,
           "#0d0887"
          ],
          [
           0.1111111111111111,
           "#46039f"
          ],
          [
           0.2222222222222222,
           "#7201a8"
          ],
          [
           0.3333333333333333,
           "#9c179e"
          ],
          [
           0.4444444444444444,
           "#bd3786"
          ],
          [
           0.5555555555555556,
           "#d8576b"
          ],
          [
           0.6666666666666666,
           "#ed7953"
          ],
          [
           0.7777777777777778,
           "#fb9f3a"
          ],
          [
           0.8888888888888888,
           "#fdca26"
          ],
          [
           1,
           "#f0f921"
          ]
         ]
        },
        "legend": {
         "itemsizing": "constant",
         "tracegroupgap": 0
        },
        "template": {
         "data": {
          "bar": [
           {
            "error_x": {
             "color": "#2a3f5f"
            },
            "error_y": {
             "color": "#2a3f5f"
            },
            "marker": {
             "line": {
              "color": "#E5ECF6",
              "width": 0.5
             }
            },
            "type": "bar"
           }
          ],
          "barpolar": [
           {
            "marker": {
             "line": {
              "color": "#E5ECF6",
              "width": 0.5
             }
            },
            "type": "barpolar"
           }
          ],
          "carpet": [
           {
            "aaxis": {
             "endlinecolor": "#2a3f5f",
             "gridcolor": "white",
             "linecolor": "white",
             "minorgridcolor": "white",
             "startlinecolor": "#2a3f5f"
            },
            "baxis": {
             "endlinecolor": "#2a3f5f",
             "gridcolor": "white",
             "linecolor": "white",
             "minorgridcolor": "white",
             "startlinecolor": "#2a3f5f"
            },
            "type": "carpet"
           }
          ],
          "choropleth": [
           {
            "colorbar": {
             "outlinewidth": 0,
             "ticks": ""
            },
            "type": "choropleth"
           }
          ],
          "contour": [
           {
            "colorbar": {
             "outlinewidth": 0,
             "ticks": ""
            },
            "colorscale": [
             [
              0,
              "#0d0887"
             ],
             [
              0.1111111111111111,
              "#46039f"
             ],
             [
              0.2222222222222222,
              "#7201a8"
             ],
             [
              0.3333333333333333,
              "#9c179e"
             ],
             [
              0.4444444444444444,
              "#bd3786"
             ],
             [
              0.5555555555555556,
              "#d8576b"
             ],
             [
              0.6666666666666666,
              "#ed7953"
             ],
             [
              0.7777777777777778,
              "#fb9f3a"
             ],
             [
              0.8888888888888888,
              "#fdca26"
             ],
             [
              1,
              "#f0f921"
             ]
            ],
            "type": "contour"
           }
          ],
          "contourcarpet": [
           {
            "colorbar": {
             "outlinewidth": 0,
             "ticks": ""
            },
            "type": "contourcarpet"
           }
          ],
          "heatmap": [
           {
            "colorbar": {
             "outlinewidth": 0,
             "ticks": ""
            },
            "colorscale": [
             [
              0,
              "#0d0887"
             ],
             [
              0.1111111111111111,
              "#46039f"
             ],
             [
              0.2222222222222222,
              "#7201a8"
             ],
             [
              0.3333333333333333,
              "#9c179e"
             ],
             [
              0.4444444444444444,
              "#bd3786"
             ],
             [
              0.5555555555555556,
              "#d8576b"
             ],
             [
              0.6666666666666666,
              "#ed7953"
             ],
             [
              0.7777777777777778,
              "#fb9f3a"
             ],
             [
              0.8888888888888888,
              "#fdca26"
             ],
             [
              1,
              "#f0f921"
             ]
            ],
            "type": "heatmap"
           }
          ],
          "heatmapgl": [
           {
            "colorbar": {
             "outlinewidth": 0,
             "ticks": ""
            },
            "colorscale": [
             [
              0,
              "#0d0887"
             ],
             [
              0.1111111111111111,
              "#46039f"
             ],
             [
              0.2222222222222222,
              "#7201a8"
             ],
             [
              0.3333333333333333,
              "#9c179e"
             ],
             [
              0.4444444444444444,
              "#bd3786"
             ],
             [
              0.5555555555555556,
              "#d8576b"
             ],
             [
              0.6666666666666666,
              "#ed7953"
             ],
             [
              0.7777777777777778,
              "#fb9f3a"
             ],
             [
              0.8888888888888888,
              "#fdca26"
             ],
             [
              1,
              "#f0f921"
             ]
            ],
            "type": "heatmapgl"
           }
          ],
          "histogram": [
           {
            "marker": {
             "colorbar": {
              "outlinewidth": 0,
              "ticks": ""
             }
            },
            "type": "histogram"
           }
          ],
          "histogram2d": [
           {
            "colorbar": {
             "outlinewidth": 0,
             "ticks": ""
            },
            "colorscale": [
             [
              0,
              "#0d0887"
             ],
             [
              0.1111111111111111,
              "#46039f"
             ],
             [
              0.2222222222222222,
              "#7201a8"
             ],
             [
              0.3333333333333333,
              "#9c179e"
             ],
             [
              0.4444444444444444,
              "#bd3786"
             ],
             [
              0.5555555555555556,
              "#d8576b"
             ],
             [
              0.6666666666666666,
              "#ed7953"
             ],
             [
              0.7777777777777778,
              "#fb9f3a"
             ],
             [
              0.8888888888888888,
              "#fdca26"
             ],
             [
              1,
              "#f0f921"
             ]
            ],
            "type": "histogram2d"
           }
          ],
          "histogram2dcontour": [
           {
            "colorbar": {
             "outlinewidth": 0,
             "ticks": ""
            },
            "colorscale": [
             [
              0,
              "#0d0887"
             ],
             [
              0.1111111111111111,
              "#46039f"
             ],
             [
              0.2222222222222222,
              "#7201a8"
             ],
             [
              0.3333333333333333,
              "#9c179e"
             ],
             [
              0.4444444444444444,
              "#bd3786"
             ],
             [
              0.5555555555555556,
              "#d8576b"
             ],
             [
              0.6666666666666666,
              "#ed7953"
             ],
             [
              0.7777777777777778,
              "#fb9f3a"
             ],
             [
              0.8888888888888888,
              "#fdca26"
             ],
             [
              1,
              "#f0f921"
             ]
            ],
            "type": "histogram2dcontour"
           }
          ],
          "mesh3d": [
           {
            "colorbar": {
             "outlinewidth": 0,
             "ticks": ""
            },
            "type": "mesh3d"
           }
          ],
          "parcoords": [
           {
            "line": {
             "colorbar": {
              "outlinewidth": 0,
              "ticks": ""
             }
            },
            "type": "parcoords"
           }
          ],
          "pie": [
           {
            "automargin": true,
            "type": "pie"
           }
          ],
          "scatter": [
           {
            "marker": {
             "colorbar": {
              "outlinewidth": 0,
              "ticks": ""
             }
            },
            "type": "scatter"
           }
          ],
          "scatter3d": [
           {
            "line": {
             "colorbar": {
              "outlinewidth": 0,
              "ticks": ""
             }
            },
            "marker": {
             "colorbar": {
              "outlinewidth": 0,
              "ticks": ""
             }
            },
            "type": "scatter3d"
           }
          ],
          "scattercarpet": [
           {
            "marker": {
             "colorbar": {
              "outlinewidth": 0,
              "ticks": ""
             }
            },
            "type": "scattercarpet"
           }
          ],
          "scattergeo": [
           {
            "marker": {
             "colorbar": {
              "outlinewidth": 0,
              "ticks": ""
             }
            },
            "type": "scattergeo"
           }
          ],
          "scattergl": [
           {
            "marker": {
             "colorbar": {
              "outlinewidth": 0,
              "ticks": ""
             }
            },
            "type": "scattergl"
           }
          ],
          "scattermapbox": [
           {
            "marker": {
             "colorbar": {
              "outlinewidth": 0,
              "ticks": ""
             }
            },
            "type": "scattermapbox"
           }
          ],
          "scatterpolar": [
           {
            "marker": {
             "colorbar": {
              "outlinewidth": 0,
              "ticks": ""
             }
            },
            "type": "scatterpolar"
           }
          ],
          "scatterpolargl": [
           {
            "marker": {
             "colorbar": {
              "outlinewidth": 0,
              "ticks": ""
             }
            },
            "type": "scatterpolargl"
           }
          ],
          "scatterternary": [
           {
            "marker": {
             "colorbar": {
              "outlinewidth": 0,
              "ticks": ""
             }
            },
            "type": "scatterternary"
           }
          ],
          "surface": [
           {
            "colorbar": {
             "outlinewidth": 0,
             "ticks": ""
            },
            "colorscale": [
             [
              0,
              "#0d0887"
             ],
             [
              0.1111111111111111,
              "#46039f"
             ],
             [
              0.2222222222222222,
              "#7201a8"
             ],
             [
              0.3333333333333333,
              "#9c179e"
             ],
             [
              0.4444444444444444,
              "#bd3786"
             ],
             [
              0.5555555555555556,
              "#d8576b"
             ],
             [
              0.6666666666666666,
              "#ed7953"
             ],
             [
              0.7777777777777778,
              "#fb9f3a"
             ],
             [
              0.8888888888888888,
              "#fdca26"
             ],
             [
              1,
              "#f0f921"
             ]
            ],
            "type": "surface"
           }
          ],
          "table": [
           {
            "cells": {
             "fill": {
              "color": "#EBF0F8"
             },
             "line": {
              "color": "white"
             }
            },
            "header": {
             "fill": {
              "color": "#C8D4E3"
             },
             "line": {
              "color": "white"
             }
            },
            "type": "table"
           }
          ]
         },
         "layout": {
          "annotationdefaults": {
           "arrowcolor": "#2a3f5f",
           "arrowhead": 0,
           "arrowwidth": 1
          },
          "coloraxis": {
           "colorbar": {
            "outlinewidth": 0,
            "ticks": ""
           }
          },
          "colorscale": {
           "diverging": [
            [
             0,
             "#8e0152"
            ],
            [
             0.1,
             "#c51b7d"
            ],
            [
             0.2,
             "#de77ae"
            ],
            [
             0.3,
             "#f1b6da"
            ],
            [
             0.4,
             "#fde0ef"
            ],
            [
             0.5,
             "#f7f7f7"
            ],
            [
             0.6,
             "#e6f5d0"
            ],
            [
             0.7,
             "#b8e186"
            ],
            [
             0.8,
             "#7fbc41"
            ],
            [
             0.9,
             "#4d9221"
            ],
            [
             1,
             "#276419"
            ]
           ],
           "sequential": [
            [
             0,
             "#0d0887"
            ],
            [
             0.1111111111111111,
             "#46039f"
            ],
            [
             0.2222222222222222,
             "#7201a8"
            ],
            [
             0.3333333333333333,
             "#9c179e"
            ],
            [
             0.4444444444444444,
             "#bd3786"
            ],
            [
             0.5555555555555556,
             "#d8576b"
            ],
            [
             0.6666666666666666,
             "#ed7953"
            ],
            [
             0.7777777777777778,
             "#fb9f3a"
            ],
            [
             0.8888888888888888,
             "#fdca26"
            ],
            [
             1,
             "#f0f921"
            ]
           ],
           "sequentialminus": [
            [
             0,
             "#0d0887"
            ],
            [
             0.1111111111111111,
             "#46039f"
            ],
            [
             0.2222222222222222,
             "#7201a8"
            ],
            [
             0.3333333333333333,
             "#9c179e"
            ],
            [
             0.4444444444444444,
             "#bd3786"
            ],
            [
             0.5555555555555556,
             "#d8576b"
            ],
            [
             0.6666666666666666,
             "#ed7953"
            ],
            [
             0.7777777777777778,
             "#fb9f3a"
            ],
            [
             0.8888888888888888,
             "#fdca26"
            ],
            [
             1,
             "#f0f921"
            ]
           ]
          },
          "colorway": [
           "#636efa",
           "#EF553B",
           "#00cc96",
           "#ab63fa",
           "#FFA15A",
           "#19d3f3",
           "#FF6692",
           "#B6E880",
           "#FF97FF",
           "#FECB52"
          ],
          "font": {
           "color": "#2a3f5f"
          },
          "geo": {
           "bgcolor": "white",
           "lakecolor": "white",
           "landcolor": "#E5ECF6",
           "showlakes": true,
           "showland": true,
           "subunitcolor": "white"
          },
          "hoverlabel": {
           "align": "left"
          },
          "hovermode": "closest",
          "mapbox": {
           "style": "light"
          },
          "paper_bgcolor": "white",
          "plot_bgcolor": "#E5ECF6",
          "polar": {
           "angularaxis": {
            "gridcolor": "white",
            "linecolor": "white",
            "ticks": ""
           },
           "bgcolor": "#E5ECF6",
           "radialaxis": {
            "gridcolor": "white",
            "linecolor": "white",
            "ticks": ""
           }
          },
          "scene": {
           "xaxis": {
            "backgroundcolor": "#E5ECF6",
            "gridcolor": "white",
            "gridwidth": 2,
            "linecolor": "white",
            "showbackground": true,
            "ticks": "",
            "zerolinecolor": "white"
           },
           "yaxis": {
            "backgroundcolor": "#E5ECF6",
            "gridcolor": "white",
            "gridwidth": 2,
            "linecolor": "white",
            "showbackground": true,
            "ticks": "",
            "zerolinecolor": "white"
           },
           "zaxis": {
            "backgroundcolor": "#E5ECF6",
            "gridcolor": "white",
            "gridwidth": 2,
            "linecolor": "white",
            "showbackground": true,
            "ticks": "",
            "zerolinecolor": "white"
           }
          },
          "shapedefaults": {
           "line": {
            "color": "#2a3f5f"
           }
          },
          "ternary": {
           "aaxis": {
            "gridcolor": "white",
            "linecolor": "white",
            "ticks": ""
           },
           "baxis": {
            "gridcolor": "white",
            "linecolor": "white",
            "ticks": ""
           },
           "bgcolor": "#E5ECF6",
           "caxis": {
            "gridcolor": "white",
            "linecolor": "white",
            "ticks": ""
           }
          },
          "title": {
           "x": 0.05
          },
          "xaxis": {
           "automargin": true,
           "gridcolor": "white",
           "linecolor": "white",
           "ticks": "",
           "title": {
            "standoff": 15
           },
           "zerolinecolor": "white",
           "zerolinewidth": 2
          },
          "yaxis": {
           "automargin": true,
           "gridcolor": "white",
           "linecolor": "white",
           "ticks": "",
           "title": {
            "standoff": 15
           },
           "zerolinecolor": "white",
           "zerolinewidth": 2
          }
         }
        },
        "title": {
         "text": "Aktif Vakalar ve Ağır Hasta Durumları"
        },
        "xaxis": {
         "anchor": "y",
         "domain": [
          0,
          1
         ],
         "title": {
          "text": "IyilesenAktifVakaOrani"
         },
         "type": "log"
        },
        "yaxis": {
         "anchor": "x",
         "domain": [
          0,
          1
         ],
         "title": {
          "text": "AktifVaka"
         }
        }
       }
      },
      "text/html": [
       "<div>\n",
       "        \n",
       "        \n",
       "            <div id=\"39b88056-844e-40db-8fbf-bf12336f9d12\" class=\"plotly-graph-div\" style=\"height:525px; width:100%;\"></div>\n",
       "            <script type=\"text/javascript\">\n",
       "                require([\"plotly\"], function(Plotly) {\n",
       "                    window.PLOTLYENV=window.PLOTLYENV || {};\n",
       "                    \n",
       "                if (document.getElementById(\"39b88056-844e-40db-8fbf-bf12336f9d12\")) {\n",
       "                    Plotly.newPlot(\n",
       "                        '39b88056-844e-40db-8fbf-bf12336f9d12',\n",
       "                        [{\"hovertemplate\": \"IyilesenAktifVakaOrani=%{x}<br>AktifVaka=%{y}<br>ToplamAgirVaka=%{marker.size}<br>EntubeHasta=%{marker.color}<extra></extra>\", \"legendgroup\": \"\", \"marker\": {\"color\": [241.0, 241.0, 241.0, 241.0, 241.0, 241.0, 241.0, 241.0, 241.0, 241.0, 241.0, 241.0, 241.0, 241.0, 241.0, 241.0, 241.0, 309.0, 394.0, 523.0, 622.0, 692.0, 783.0, 867.0, 909.0, 935.0, 966.0, 987.0, 995.0, 1017.0, 1062.0, 1021.0, 978.0, 1063.0, 1087.0, 1052.0, 1040.0, 1014.0, 1054.0, 1031.0, 1033.0, 1006.0, 985.0, 982.0, 929.0, 900.0, 883.0, 882.0, 845.0, 831.0, 803.0, 818.0, 778.0, 766.0, 727.0, 707.0, 669.0, 665.0, 653.0, 628.0, 598.0, 578.0, 576.0, 535.0, 508.0, 490.0, 474.0, 468.0, 463.0, 455.0, 445.0, 424.0, 401.0, 388.0, 385.0, 371.0, 338.0, 331.0, 339.0, 324.0, 308.0, 287.0, 283.0, 271.0, 261.0, 265.0, 269.0, 264.0, 274.0, 261.0, 281.0, 280.0, 266.0, 282.0, 284.0, 290.0, 291.0, 303.0, 306.0, 311.0, 310.0, 318.0, 327.0, 345.0, 362.0, 356.0, 369.0, 382.0, 366.0, 381.0, 375.0, 368.0, 362.0, 372.0, 374.0, 378.0, 392.0, 412.0, 400.0, 406.0, 399.0, 402.0, 401.0, 409.0, 402.0, 396.0, 401.0, 394.0, 402.0, 394.0, 398.0, 385.0, 379.0, 381.0, 378.0, 379.0, 386.0, 387.0, 392.0, 403.0, 542.0, 561.0, 582.0, 586.0, 582.0, 580.0, 583.0], \"coloraxis\": \"coloraxis\", \"size\": [373.0, 373.0, 373.0, 373.0, 373.0, 373.0, 373.0, 373.0, 373.0, 373.0, 373.0, 373.0, 373.0, 373.0, 373.0, 373.0, 373.0, 480.0, 587.0, 694.0, 800.0, 1014.0, 1121.0, 1227.0, 1334.0, 1334.0, 1441.0, 1441.0, 1441.0, 1548.0, 1655.0, 1655.0, 1655.0, 1761.0, 1761.0, 1868.0, 1868.0, 1868.0, 1868.0, 1922.0, 1868.0, 1868.0, 1761.0, 1868.0, 1761.0, 1761.0, 1761.0, 1761.0, 1655.0, 1548.0, 1548.0, 1441.0, 1441.0, 1441.0, 1334.0, 1334.0, 1227.0, 1227.0, 1227.0, 1121.0, 1121.0, 1121.0, 1014.0, 1014.0, 1014.0, 907.0, 907.0, 907.0, 907.0, 907.0, 907.0, 800.0, 800.0, 800.0, 800.0, 800.0, 694.0, 694.0, 694.0, 694.0, 694.0, 694.0, 694.0, 587.0, 587.0, 587.0, 587.0, 587.0, 587.0, 587.0, 694.0, 587.0, 694.0, 694.0, 694.0, 694.0, 694.0, 694.0, 694.0, 800.0, 800.0, 800.0, 800.0, 800.0, 907.0, 907.0, 907.0, 1014.0, 1014.0, 1014.0, 1014.0, 1014.0, 1014.0, 1014.0, 1121.0, 1121.0, 1121.0, 1227.0, 1121.0, 1121.0, 1227.0, 1227.0, 1227.0, 1227.0, 1227.0, 1227.0, 1227.0, 1227.0, 1227.0, 1227.0, 1227.0, 1227.0, 1227.0, 1227.0, 1227.0, 1227.0, 1227.0, 1227.0, 1227.0, 1227.0, 53.0, 53.0, 53.0, 53.0, 53.0, 0.084, 53.0], \"sizemode\": \"area\", \"sizeref\": 4.805, \"symbol\": \"circle\"}, \"mode\": \"markers\", \"name\": \"\", \"orientation\": \"v\", \"showlegend\": false, \"type\": \"scatter\", \"x\": [0.0, 0.0, 0.0, 0.0, 0.0, 0.0, 0.0, 0.0, 0.0, 0.0, 0.0, 0.0, 0.0, 0.0, 1.11, 0.74, 0.76, 0.97, 1.17, 1.55, 1.86, 2.21, 2.4, 2.42, 3.48, 4.1, 4.7, 4.98, 5.2, 5.46, 5.56, 6.17, 6.59, 7.1, 8.15, 9.13, 10.83, 12.67, 14.94, 16.57, 17.81, 19.03, 20.65, 22.89, 26.98, 32.19, 37.28, 44.72, 53.28, 62.5, 71.74, 82.37, 92.8, 106.15, 121.66, 139.1, 156.54, 176.21, 189.95, 203.85, 219.76, 238.56, 255.58, 271.63, 283.37, 292.63, 301.78, 311.22, 320.21, 327.04, 331.57, 335.16, 338.7, 343.37, 346.38, 353.99, 364.54, 371.58, 381.24, 391.9, 395.87, 401.14, 406.35, 412.15, 416.27, 418.67, 433.6, 455.62, 493.72, 554.35, 621.64, 669.74, 676.9, 683.58, 673.89, 673.3, 659.13, 651.27, 652.49, 661.09, 676.1, 684.25, 697.64, 706.5, 714.56, 718.06, 725.61, 735.85, 765.78, 774.7, 775.21, 781.97, 835.35, 857.98, 871.1, 880.47, 888.87, 959.0, 1039.86, 1128.3, 1291.13, 1348.16, 1390.66, 1431.42, 1457.84, 1474.12, 1490.98, 1519.22, 1539.44, 1582.41, 1601.48, 1619.36, 1640.36, 1693.61, 1739.87, 1761.59, 1801.26, 1825.76, 1847.2, 1880.55, 1900.89, 1914.81, 1929.1, 1938.62, 1949.0, 1962.8, 1959.21], \"xaxis\": \"x\", \"y\": [1, 1, 5, 6, 18, 47, 97, 188, 355, 661, 926, 1206, 1492, 1828, 2348, 3528, 5564, 7224, 8981, 10497, 13074, 15069, 17364, 20012, 22647, 25453, 28242, 31802, 35568, 39232, 43600, 48101, 52312, 55796, 58909, 62200, 65461, 68146, 69986, 72313, 75410, 78414, 79821, 80808, 80575, 79485, 78185, 75570, 72852, 70468, 68144, 65326, 62780, 59497, 56032, 52686, 49958, 47096, 45484, 43896, 42180, 40150, 38692, 37447, 36712, 36269, 35834, 35333, 34845, 34521, 34378, 34309, 34282, 34250, 34267, 33904, 33332, 33047, 32623, 32142, 32078, 31903, 31733, 31523, 31435, 31476, 30766, 29701, 27945, 25504, 23261, 21925, 21844, 21812, 22272, 22489, 23116, 23551, 23700, 23601, 23298, 23212, 22969, 22864, 22790, 22872, 22837, 22722, 22093, 22021, 22163, 22138, 21000, 20626, 20466, 20386, 20327, 19082, 17819, 16619, 14746, 14233, 13894, 13589, 13422, 13345, 13262, 13087, 12981, 12703, 12614, 12536, 12437, 12117, 11861, 11772, 11574, 11474, 11394, 11250, 11182, 11152, 11121, 11117, 11108, 11081, 11152], \"yaxis\": \"y\"}],\n",
       "                        {\"coloraxis\": {\"colorbar\": {\"title\": {\"text\": \"EntubeHasta\"}}, \"colorscale\": [[0.0, \"#0d0887\"], [0.1111111111111111, \"#46039f\"], [0.2222222222222222, \"#7201a8\"], [0.3333333333333333, \"#9c179e\"], [0.4444444444444444, \"#bd3786\"], [0.5555555555555556, \"#d8576b\"], [0.6666666666666666, \"#ed7953\"], [0.7777777777777778, \"#fb9f3a\"], [0.8888888888888888, \"#fdca26\"], [1.0, \"#f0f921\"]]}, \"legend\": {\"itemsizing\": \"constant\", \"tracegroupgap\": 0}, \"template\": {\"data\": {\"bar\": [{\"error_x\": {\"color\": \"#2a3f5f\"}, \"error_y\": {\"color\": \"#2a3f5f\"}, \"marker\": {\"line\": {\"color\": \"#E5ECF6\", \"width\": 0.5}}, \"type\": \"bar\"}], \"barpolar\": [{\"marker\": {\"line\": {\"color\": \"#E5ECF6\", \"width\": 0.5}}, \"type\": \"barpolar\"}], \"carpet\": [{\"aaxis\": {\"endlinecolor\": \"#2a3f5f\", \"gridcolor\": \"white\", \"linecolor\": \"white\", \"minorgridcolor\": \"white\", \"startlinecolor\": \"#2a3f5f\"}, \"baxis\": {\"endlinecolor\": \"#2a3f5f\", \"gridcolor\": \"white\", \"linecolor\": \"white\", \"minorgridcolor\": \"white\", \"startlinecolor\": \"#2a3f5f\"}, \"type\": \"carpet\"}], \"choropleth\": [{\"colorbar\": {\"outlinewidth\": 0, \"ticks\": \"\"}, \"type\": \"choropleth\"}], \"contour\": [{\"colorbar\": {\"outlinewidth\": 0, \"ticks\": \"\"}, \"colorscale\": [[0.0, \"#0d0887\"], [0.1111111111111111, \"#46039f\"], [0.2222222222222222, \"#7201a8\"], [0.3333333333333333, \"#9c179e\"], [0.4444444444444444, \"#bd3786\"], [0.5555555555555556, \"#d8576b\"], [0.6666666666666666, \"#ed7953\"], [0.7777777777777778, \"#fb9f3a\"], [0.8888888888888888, \"#fdca26\"], [1.0, \"#f0f921\"]], \"type\": \"contour\"}], \"contourcarpet\": [{\"colorbar\": {\"outlinewidth\": 0, \"ticks\": \"\"}, \"type\": \"contourcarpet\"}], \"heatmap\": [{\"colorbar\": {\"outlinewidth\": 0, \"ticks\": \"\"}, \"colorscale\": [[0.0, \"#0d0887\"], [0.1111111111111111, \"#46039f\"], [0.2222222222222222, \"#7201a8\"], [0.3333333333333333, \"#9c179e\"], [0.4444444444444444, \"#bd3786\"], [0.5555555555555556, \"#d8576b\"], [0.6666666666666666, \"#ed7953\"], [0.7777777777777778, \"#fb9f3a\"], [0.8888888888888888, \"#fdca26\"], [1.0, \"#f0f921\"]], \"type\": \"heatmap\"}], \"heatmapgl\": [{\"colorbar\": {\"outlinewidth\": 0, \"ticks\": \"\"}, \"colorscale\": [[0.0, \"#0d0887\"], [0.1111111111111111, \"#46039f\"], [0.2222222222222222, \"#7201a8\"], [0.3333333333333333, \"#9c179e\"], [0.4444444444444444, \"#bd3786\"], [0.5555555555555556, \"#d8576b\"], [0.6666666666666666, \"#ed7953\"], [0.7777777777777778, \"#fb9f3a\"], [0.8888888888888888, \"#fdca26\"], [1.0, \"#f0f921\"]], \"type\": \"heatmapgl\"}], \"histogram\": [{\"marker\": {\"colorbar\": {\"outlinewidth\": 0, \"ticks\": \"\"}}, \"type\": \"histogram\"}], \"histogram2d\": [{\"colorbar\": {\"outlinewidth\": 0, \"ticks\": \"\"}, \"colorscale\": [[0.0, \"#0d0887\"], [0.1111111111111111, \"#46039f\"], [0.2222222222222222, \"#7201a8\"], [0.3333333333333333, \"#9c179e\"], [0.4444444444444444, \"#bd3786\"], [0.5555555555555556, \"#d8576b\"], [0.6666666666666666, \"#ed7953\"], [0.7777777777777778, \"#fb9f3a\"], [0.8888888888888888, \"#fdca26\"], [1.0, \"#f0f921\"]], \"type\": \"histogram2d\"}], \"histogram2dcontour\": [{\"colorbar\": {\"outlinewidth\": 0, \"ticks\": \"\"}, \"colorscale\": [[0.0, \"#0d0887\"], [0.1111111111111111, \"#46039f\"], [0.2222222222222222, \"#7201a8\"], [0.3333333333333333, \"#9c179e\"], [0.4444444444444444, \"#bd3786\"], [0.5555555555555556, \"#d8576b\"], [0.6666666666666666, \"#ed7953\"], [0.7777777777777778, \"#fb9f3a\"], [0.8888888888888888, \"#fdca26\"], [1.0, \"#f0f921\"]], \"type\": \"histogram2dcontour\"}], \"mesh3d\": [{\"colorbar\": {\"outlinewidth\": 0, \"ticks\": \"\"}, \"type\": \"mesh3d\"}], \"parcoords\": [{\"line\": {\"colorbar\": {\"outlinewidth\": 0, \"ticks\": \"\"}}, \"type\": \"parcoords\"}], \"pie\": [{\"automargin\": true, \"type\": \"pie\"}], \"scatter\": [{\"marker\": {\"colorbar\": {\"outlinewidth\": 0, \"ticks\": \"\"}}, \"type\": \"scatter\"}], \"scatter3d\": [{\"line\": {\"colorbar\": {\"outlinewidth\": 0, \"ticks\": \"\"}}, \"marker\": {\"colorbar\": {\"outlinewidth\": 0, \"ticks\": \"\"}}, \"type\": \"scatter3d\"}], \"scattercarpet\": [{\"marker\": {\"colorbar\": {\"outlinewidth\": 0, \"ticks\": \"\"}}, \"type\": \"scattercarpet\"}], \"scattergeo\": [{\"marker\": {\"colorbar\": {\"outlinewidth\": 0, \"ticks\": \"\"}}, \"type\": \"scattergeo\"}], \"scattergl\": [{\"marker\": {\"colorbar\": {\"outlinewidth\": 0, \"ticks\": \"\"}}, \"type\": \"scattergl\"}], \"scattermapbox\": [{\"marker\": {\"colorbar\": {\"outlinewidth\": 0, \"ticks\": \"\"}}, \"type\": \"scattermapbox\"}], \"scatterpolar\": [{\"marker\": {\"colorbar\": {\"outlinewidth\": 0, \"ticks\": \"\"}}, \"type\": \"scatterpolar\"}], \"scatterpolargl\": [{\"marker\": {\"colorbar\": {\"outlinewidth\": 0, \"ticks\": \"\"}}, \"type\": \"scatterpolargl\"}], \"scatterternary\": [{\"marker\": {\"colorbar\": {\"outlinewidth\": 0, \"ticks\": \"\"}}, \"type\": \"scatterternary\"}], \"surface\": [{\"colorbar\": {\"outlinewidth\": 0, \"ticks\": \"\"}, \"colorscale\": [[0.0, \"#0d0887\"], [0.1111111111111111, \"#46039f\"], [0.2222222222222222, \"#7201a8\"], [0.3333333333333333, \"#9c179e\"], [0.4444444444444444, \"#bd3786\"], [0.5555555555555556, \"#d8576b\"], [0.6666666666666666, \"#ed7953\"], [0.7777777777777778, \"#fb9f3a\"], [0.8888888888888888, \"#fdca26\"], [1.0, \"#f0f921\"]], \"type\": \"surface\"}], \"table\": [{\"cells\": {\"fill\": {\"color\": \"#EBF0F8\"}, \"line\": {\"color\": \"white\"}}, \"header\": {\"fill\": {\"color\": \"#C8D4E3\"}, \"line\": {\"color\": \"white\"}}, \"type\": \"table\"}]}, \"layout\": {\"annotationdefaults\": {\"arrowcolor\": \"#2a3f5f\", \"arrowhead\": 0, \"arrowwidth\": 1}, \"coloraxis\": {\"colorbar\": {\"outlinewidth\": 0, \"ticks\": \"\"}}, \"colorscale\": {\"diverging\": [[0, \"#8e0152\"], [0.1, \"#c51b7d\"], [0.2, \"#de77ae\"], [0.3, \"#f1b6da\"], [0.4, \"#fde0ef\"], [0.5, \"#f7f7f7\"], [0.6, \"#e6f5d0\"], [0.7, \"#b8e186\"], [0.8, \"#7fbc41\"], [0.9, \"#4d9221\"], [1, \"#276419\"]], \"sequential\": [[0.0, \"#0d0887\"], [0.1111111111111111, \"#46039f\"], [0.2222222222222222, \"#7201a8\"], [0.3333333333333333, \"#9c179e\"], [0.4444444444444444, \"#bd3786\"], [0.5555555555555556, \"#d8576b\"], [0.6666666666666666, \"#ed7953\"], [0.7777777777777778, \"#fb9f3a\"], [0.8888888888888888, \"#fdca26\"], [1.0, \"#f0f921\"]], \"sequentialminus\": [[0.0, \"#0d0887\"], [0.1111111111111111, \"#46039f\"], [0.2222222222222222, \"#7201a8\"], [0.3333333333333333, \"#9c179e\"], [0.4444444444444444, \"#bd3786\"], [0.5555555555555556, \"#d8576b\"], [0.6666666666666666, \"#ed7953\"], [0.7777777777777778, \"#fb9f3a\"], [0.8888888888888888, \"#fdca26\"], [1.0, \"#f0f921\"]]}, \"colorway\": [\"#636efa\", \"#EF553B\", \"#00cc96\", \"#ab63fa\", \"#FFA15A\", \"#19d3f3\", \"#FF6692\", \"#B6E880\", \"#FF97FF\", \"#FECB52\"], \"font\": {\"color\": \"#2a3f5f\"}, \"geo\": {\"bgcolor\": \"white\", \"lakecolor\": \"white\", \"landcolor\": \"#E5ECF6\", \"showlakes\": true, \"showland\": true, \"subunitcolor\": \"white\"}, \"hoverlabel\": {\"align\": \"left\"}, \"hovermode\": \"closest\", \"mapbox\": {\"style\": \"light\"}, \"paper_bgcolor\": \"white\", \"plot_bgcolor\": \"#E5ECF6\", \"polar\": {\"angularaxis\": {\"gridcolor\": \"white\", \"linecolor\": \"white\", \"ticks\": \"\"}, \"bgcolor\": \"#E5ECF6\", \"radialaxis\": {\"gridcolor\": \"white\", \"linecolor\": \"white\", \"ticks\": \"\"}}, \"scene\": {\"xaxis\": {\"backgroundcolor\": \"#E5ECF6\", \"gridcolor\": \"white\", \"gridwidth\": 2, \"linecolor\": \"white\", \"showbackground\": true, \"ticks\": \"\", \"zerolinecolor\": \"white\"}, \"yaxis\": {\"backgroundcolor\": \"#E5ECF6\", \"gridcolor\": \"white\", \"gridwidth\": 2, \"linecolor\": \"white\", \"showbackground\": true, \"ticks\": \"\", \"zerolinecolor\": \"white\"}, \"zaxis\": {\"backgroundcolor\": \"#E5ECF6\", \"gridcolor\": \"white\", \"gridwidth\": 2, \"linecolor\": \"white\", \"showbackground\": true, \"ticks\": \"\", \"zerolinecolor\": \"white\"}}, \"shapedefaults\": {\"line\": {\"color\": \"#2a3f5f\"}}, \"ternary\": {\"aaxis\": {\"gridcolor\": \"white\", \"linecolor\": \"white\", \"ticks\": \"\"}, \"baxis\": {\"gridcolor\": \"white\", \"linecolor\": \"white\", \"ticks\": \"\"}, \"bgcolor\": \"#E5ECF6\", \"caxis\": {\"gridcolor\": \"white\", \"linecolor\": \"white\", \"ticks\": \"\"}}, \"title\": {\"x\": 0.05}, \"xaxis\": {\"automargin\": true, \"gridcolor\": \"white\", \"linecolor\": \"white\", \"ticks\": \"\", \"title\": {\"standoff\": 15}, \"zerolinecolor\": \"white\", \"zerolinewidth\": 2}, \"yaxis\": {\"automargin\": true, \"gridcolor\": \"white\", \"linecolor\": \"white\", \"ticks\": \"\", \"title\": {\"standoff\": 15}, \"zerolinecolor\": \"white\", \"zerolinewidth\": 2}}}, \"title\": {\"text\": \"Aktif Vakalar ve A\\u011f\\u0131r Hasta Durumlar\\u0131\"}, \"xaxis\": {\"anchor\": \"y\", \"domain\": [0.0, 1.0], \"title\": {\"text\": \"IyilesenAktifVakaOrani\"}, \"type\": \"log\"}, \"yaxis\": {\"anchor\": \"x\", \"domain\": [0.0, 1.0], \"title\": {\"text\": \"AktifVaka\"}}},\n",
       "                        {\"responsive\": true}\n",
       "                    ).then(function(){\n",
       "                            \n",
       "var gd = document.getElementById('39b88056-844e-40db-8fbf-bf12336f9d12');\n",
       "var x = new MutationObserver(function (mutations, observer) {{\n",
       "        var display = window.getComputedStyle(gd).display;\n",
       "        if (!display || display === 'none') {{\n",
       "            console.log([gd, 'removed!']);\n",
       "            Plotly.purge(gd);\n",
       "            observer.disconnect();\n",
       "        }}\n",
       "}});\n",
       "\n",
       "// Listen for the removal of the full notebook cells\n",
       "var notebookContainer = gd.closest('#notebook-container');\n",
       "if (notebookContainer) {{\n",
       "    x.observe(notebookContainer, {childList: true});\n",
       "}}\n",
       "\n",
       "// Listen for the clearing of the current output cell\n",
       "var outputEl = gd.closest('.output');\n",
       "if (outputEl) {{\n",
       "    x.observe(outputEl, {childList: true});\n",
       "}}\n",
       "\n",
       "                        })\n",
       "                };\n",
       "                });\n",
       "            </script>\n",
       "        </div>"
      ]
     },
     "metadata": {},
     "output_type": "display_data"
    }
   ],
   "source": [
    "fig = px.scatter(df, x=\"IyilesenAktifVakaOrani\", y=\"AktifVaka\",size=\"ToplamAgirVaka\", color='EntubeHasta', log_x=1,title='Aktif Vakalar ve Ağır Hasta Durumları')\n",
    "fig.show()"
   ]
  },
  {
   "cell_type": "code",
   "execution_count": 38,
   "metadata": {},
   "outputs": [
    {
     "name": "stderr",
     "output_type": "stream",
     "text": [
      "C:\\Anaconda3\\envs\\Python\\lib\\site-packages\\pandas\\plotting\\_matplotlib\\core.py:1235: UserWarning:\n",
      "\n",
      "FixedFormatter should only be used together with FixedLocator\n",
      "\n"
     ]
    },
    {
     "data": {
      "image/png": "[encoded data removed]",
      "text/plain": [
       "<Figure size 1440x864 with 1 Axes>"
      ]
     },
     "metadata": {
      "needs_background": "light"
     },
     "output_type": "display_data"
    }
   ],
   "source": [
    "ax = df.set_index('Tarih').plot(figsize=(20, 12))\n",
    "ax.set_xlabel('Tarih')\n",
    "plt.show()"
   ]
  },
  {
   "cell_type": "code",
   "execution_count": 39,
   "metadata": {},
   "outputs": [
    {
     "name": "stderr",
     "output_type": "stream",
     "text": [
      "C:\\Anaconda3\\envs\\Python\\lib\\site-packages\\pandas\\plotting\\_matplotlib\\core.py:1235: UserWarning:\n",
      "\n",
      "FixedFormatter should only be used together with FixedLocator\n",
      "\n",
      "C:\\Anaconda3\\envs\\Python\\lib\\site-packages\\pandas\\plotting\\_matplotlib\\core.py:1235: UserWarning:\n",
      "\n",
      "FixedFormatter should only be used together with FixedLocator\n",
      "\n",
      "C:\\Anaconda3\\envs\\Python\\lib\\site-packages\\pandas\\plotting\\_matplotlib\\core.py:1235: UserWarning:\n",
      "\n",
      "FixedFormatter should only be used together with FixedLocator\n",
      "\n"
     ]
    },
    {
     "data": {
      "image/png": "[encoded data removed]",
      "text/plain": [
       "<Figure size 720x1440 with 3 Axes>"
      ]
     },
     "metadata": {
      "needs_background": "light"
     },
     "output_type": "display_data"
    }
   ],
   "source": [
    "f,ax=plt.subplots(3,1,figsize=(10,20))\n",
    "\n",
    "dff = data.groupby(\"Tarih\").mean()\n",
    "\n",
    "dff['GunlukTest'].plot(ax = ax[0], color = 'cyan')\n",
    "ax[0].set_xlabel('')\n",
    "ax[0].set_ylabel('')\n",
    "\n",
    "dff['GunlukVaka'].plot(ax = ax[0], color = 'red')\n",
    "ax[0].set_xlabel('')\n",
    "ax[0].set_ylabel('')\n",
    "\n",
    "dff['GunlukVakaTestOrani'].plot(ax = ax[0], color = 'yellow')\n",
    "ax[0].set_title('Günlük Vaka Test Oranı')\n",
    "ax[0].set_xlabel('')\n",
    "ax[0].set_ylabel('')\n",
    "\n",
    "dff['VakaArtisOrani'].plot(ax = ax[1], color = 'red')\n",
    "ax[1].set_title('Ölüm Aktif Vaka Oranı')\n",
    "ax[1].set_xlabel('')\n",
    "ax[1].set_ylabel('')\n",
    "\n",
    "dff['AktifVaka'].plot(ax = ax[1], color = 'blue')\n",
    "ax[1].set_title('Nüfus Aktif Vaka Oranı')\n",
    "ax[1].set_xlabel('')\n",
    "ax[1].set_ylabel('')\n",
    "\n",
    "dff['ToplamVaka'].plot(ax = ax[1], color = 'green')\n",
    "ax[1].set_title('Vaka Durum Tablosu')\n",
    "ax[1].set_xlabel('')\n",
    "ax[1].set_ylabel('')\n",
    "\n",
    "dff['ToplamOlum'].plot(ax = ax[2], color = 'black')\n",
    "ax[2].set_title('Toplam Ölüm')\n",
    "ax[2].set_xlabel('')\n",
    "ax[2].set_ylabel('')\n",
    "\n",
    "f.subplots_adjust(hspace=0.2)\n",
    "plt.show();"
   ]
  },
  {
   "cell_type": "code",
   "execution_count": null,
   "metadata": {},
   "outputs": [],
   "source": []
  }
 ],
 "metadata": {
  "kernelspec": {
   "display_name": "Python 3",
   "language": "python",
   "name": "python3"
  },
  "language_info": {
   "codemirror_mode": {
    "name": "ipython",
    "version": 3
   },
   "file_extension": ".py",
   "mimetype": "text/x-python",
   "name": "python",
   "nbconvert_exporter": "python",
   "pygments_lexer": "ipython3",
   "version": "3.8.5"
  }
 },
 "nbformat": 4,
 "nbformat_minor": 4
}
